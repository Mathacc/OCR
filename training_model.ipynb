{
 "cells": [
  {
   "cell_type": "markdown",
   "metadata": {},
   "source": [
    "# Libraries"
   ]
  },
  {
   "cell_type": "code",
   "execution_count": 3,
   "metadata": {},
   "outputs": [],
   "source": [
    "import torch\n",
    "import numpy as np\n",
    "import zipfile\n",
    "import pandas as pd\n",
    "import matplotlib.pyplot as plt\n",
    "import seaborn as sns\n",
    "import cv2\n",
    "from sklearn.preprocessing import LabelBinarizer\n",
    "from sklearn.model_selection import train_test_split\n",
    "from sklearn.metrics import classification_report\n"
   ]
  },
  {
   "cell_type": "markdown",
   "metadata": {},
   "source": [
    "# MNIST 0-9 DATABASE"
   ]
  },
  {
   "cell_type": "code",
   "execution_count": 4,
   "metadata": {},
   "outputs": [],
   "source": [
    "from torchvision.datasets import MNIST"
   ]
  },
  {
   "cell_type": "code",
   "execution_count": 5,
   "metadata": {},
   "outputs": [],
   "source": [
    "(train_data, train_labels), (test_data, test_labels) = MNIST('./', train=True)"
   ]
  },
  {
   "cell_type": "code",
   "execution_count": 6,
   "metadata": {},
   "outputs": [
    {
     "data": {
      "text/plain": [
       "((60000, 28, 28), (10000, 28, 28))"
      ]
     },
     "execution_count": 6,
     "metadata": {},
     "output_type": "execute_result"
    }
   ],
   "source": [
    "train_data.shape, test_data.shape"
   ]
  },
  {
   "cell_type": "code",
   "execution_count": 7,
   "metadata": {},
   "outputs": [],
   "source": [
    "digitos_data = np.vstack([train_data, test_data]) #vertical stack\n",
    "digitos_label = np.hstack([train_labels, test_labels])#horizontal stack"
   ]
  },
  {
   "cell_type": "code",
   "execution_count": 8,
   "metadata": {},
   "outputs": [
    {
     "data": {
      "text/plain": [
       "array([5, 0, 4, ..., 4, 5, 6], dtype=uint8)"
      ]
     },
     "execution_count": 8,
     "metadata": {},
     "output_type": "execute_result"
    }
   ],
   "source": [
    "digitos_label"
   ]
  },
  {
   "cell_type": "code",
   "execution_count": 9,
   "metadata": {},
   "outputs": [
    {
     "data": {
      "text/plain": [
       "array([[  0,   0,   0,   0,   0,   0,   0,   0,   0,   0,   0,   0,   0,\n",
       "          0,   0,   0,   0,   0,   0,   0,   0,   0,   0,   0,   0,   0,\n",
       "          0,   0],\n",
       "       [  0,   0,   0,   0,   0,   0,   0,   0,   0,   0,   0,   0,   0,\n",
       "          0,   0,   0,   0,   0,   0,   0,   0,   0,   0,   0,   0,   0,\n",
       "          0,   0],\n",
       "       [  0,   0,   0,   0,   0,   0,   0,   0,   0,   0,   0,   0,   0,\n",
       "          0,   0,   0,   0,   0,   0,   0,   0,   0,   0,   0,   0,   0,\n",
       "          0,   0],\n",
       "       [  0,   0,   0,   0,   0,   0,   0,   0,   0,   0,   0,   0,   0,\n",
       "          0,   0,   0,   0,   0,   0,   0,   0,   0,   0,   0,   0,   0,\n",
       "          0,   0],\n",
       "       [  0,   0,   0,   0,   0,   0,   0,   0,   0,   0,   0,   0,   0,\n",
       "          0,   0,   0,   0,   0,   0,   0,   0,   0,   0,   0,   0,   0,\n",
       "          0,   0],\n",
       "       [  0,   0,   0,   0,   0,   0,   0,   0,   0,   0,   0,   0,   3,\n",
       "         18,  18,  18, 126, 136, 175,  26, 166, 255, 247, 127,   0,   0,\n",
       "          0,   0],\n",
       "       [  0,   0,   0,   0,   0,   0,   0,   0,  30,  36,  94, 154, 170,\n",
       "        253, 253, 253, 253, 253, 225, 172, 253, 242, 195,  64,   0,   0,\n",
       "          0,   0],\n",
       "       [  0,   0,   0,   0,   0,   0,   0,  49, 238, 253, 253, 253, 253,\n",
       "        253, 253, 253, 253, 251,  93,  82,  82,  56,  39,   0,   0,   0,\n",
       "          0,   0],\n",
       "       [  0,   0,   0,   0,   0,   0,   0,  18, 219, 253, 253, 253, 253,\n",
       "        253, 198, 182, 247, 241,   0,   0,   0,   0,   0,   0,   0,   0,\n",
       "          0,   0],\n",
       "       [  0,   0,   0,   0,   0,   0,   0,   0,  80, 156, 107, 253, 253,\n",
       "        205,  11,   0,  43, 154,   0,   0,   0,   0,   0,   0,   0,   0,\n",
       "          0,   0],\n",
       "       [  0,   0,   0,   0,   0,   0,   0,   0,   0,  14,   1, 154, 253,\n",
       "         90,   0,   0,   0,   0,   0,   0,   0,   0,   0,   0,   0,   0,\n",
       "          0,   0],\n",
       "       [  0,   0,   0,   0,   0,   0,   0,   0,   0,   0,   0, 139, 253,\n",
       "        190,   2,   0,   0,   0,   0,   0,   0,   0,   0,   0,   0,   0,\n",
       "          0,   0],\n",
       "       [  0,   0,   0,   0,   0,   0,   0,   0,   0,   0,   0,  11, 190,\n",
       "        253,  70,   0,   0,   0,   0,   0,   0,   0,   0,   0,   0,   0,\n",
       "          0,   0],\n",
       "       [  0,   0,   0,   0,   0,   0,   0,   0,   0,   0,   0,   0,  35,\n",
       "        241, 225, 160, 108,   1,   0,   0,   0,   0,   0,   0,   0,   0,\n",
       "          0,   0],\n",
       "       [  0,   0,   0,   0,   0,   0,   0,   0,   0,   0,   0,   0,   0,\n",
       "         81, 240, 253, 253, 119,  25,   0,   0,   0,   0,   0,   0,   0,\n",
       "          0,   0],\n",
       "       [  0,   0,   0,   0,   0,   0,   0,   0,   0,   0,   0,   0,   0,\n",
       "          0,  45, 186, 253, 253, 150,  27,   0,   0,   0,   0,   0,   0,\n",
       "          0,   0],\n",
       "       [  0,   0,   0,   0,   0,   0,   0,   0,   0,   0,   0,   0,   0,\n",
       "          0,   0,  16,  93, 252, 253, 187,   0,   0,   0,   0,   0,   0,\n",
       "          0,   0],\n",
       "       [  0,   0,   0,   0,   0,   0,   0,   0,   0,   0,   0,   0,   0,\n",
       "          0,   0,   0,   0, 249, 253, 249,  64,   0,   0,   0,   0,   0,\n",
       "          0,   0],\n",
       "       [  0,   0,   0,   0,   0,   0,   0,   0,   0,   0,   0,   0,   0,\n",
       "          0,  46, 130, 183, 253, 253, 207,   2,   0,   0,   0,   0,   0,\n",
       "          0,   0],\n",
       "       [  0,   0,   0,   0,   0,   0,   0,   0,   0,   0,   0,   0,  39,\n",
       "        148, 229, 253, 253, 253, 250, 182,   0,   0,   0,   0,   0,   0,\n",
       "          0,   0],\n",
       "       [  0,   0,   0,   0,   0,   0,   0,   0,   0,   0,  24, 114, 221,\n",
       "        253, 253, 253, 253, 201,  78,   0,   0,   0,   0,   0,   0,   0,\n",
       "          0,   0],\n",
       "       [  0,   0,   0,   0,   0,   0,   0,   0,  23,  66, 213, 253, 253,\n",
       "        253, 253, 198,  81,   2,   0,   0,   0,   0,   0,   0,   0,   0,\n",
       "          0,   0],\n",
       "       [  0,   0,   0,   0,   0,   0,  18, 171, 219, 253, 253, 253, 253,\n",
       "        195,  80,   9,   0,   0,   0,   0,   0,   0,   0,   0,   0,   0,\n",
       "          0,   0],\n",
       "       [  0,   0,   0,   0,  55, 172, 226, 253, 253, 253, 253, 244, 133,\n",
       "         11,   0,   0,   0,   0,   0,   0,   0,   0,   0,   0,   0,   0,\n",
       "          0,   0],\n",
       "       [  0,   0,   0,   0, 136, 253, 253, 253, 212, 135, 132,  16,   0,\n",
       "          0,   0,   0,   0,   0,   0,   0,   0,   0,   0,   0,   0,   0,\n",
       "          0,   0],\n",
       "       [  0,   0,   0,   0,   0,   0,   0,   0,   0,   0,   0,   0,   0,\n",
       "          0,   0,   0,   0,   0,   0,   0,   0,   0,   0,   0,   0,   0,\n",
       "          0,   0],\n",
       "       [  0,   0,   0,   0,   0,   0,   0,   0,   0,   0,   0,   0,   0,\n",
       "          0,   0,   0,   0,   0,   0,   0,   0,   0,   0,   0,   0,   0,\n",
       "          0,   0],\n",
       "       [  0,   0,   0,   0,   0,   0,   0,   0,   0,   0,   0,   0,   0,\n",
       "          0,   0,   0,   0,   0,   0,   0,   0,   0,   0,   0,   0,   0,\n",
       "          0,   0]], dtype=uint8)"
      ]
     },
     "execution_count": 9,
     "metadata": {},
     "output_type": "execute_result"
    }
   ],
   "source": [
    "digitos_data[0]"
   ]
  },
  {
   "cell_type": "code",
   "execution_count": 10,
   "metadata": {},
   "outputs": [
    {
     "data": {
      "image/png": "[encoded data removed]",
      "text/plain": [
       "<Figure size 640x480 with 1 Axes>"
      ]
     },
     "metadata": {},
     "output_type": "display_data"
    }
   ],
   "source": [
    "indice = np.random.randint(0, digitos_data.shape[0])\n",
    "plt.imshow(digitos_data[indice], cmap='gray')\n",
    "plt.title('Classe:' + str(digitos_label[indice]));"
   ]
  },
  {
   "cell_type": "code",
   "execution_count": 11,
   "metadata": {},
   "outputs": [
    {
     "data": {
      "text/plain": [
       "array([5, 0, 4, ..., 4, 5, 6], dtype=uint8)"
      ]
     },
     "execution_count": 11,
     "metadata": {},
     "output_type": "execute_result"
    }
   ],
   "source": [
    "digitos_label"
   ]
  },
  {
   "cell_type": "code",
   "execution_count": 12,
   "metadata": {},
   "outputs": [
    {
     "data": {
      "image/png": "[encoded data removed]",
      "text/plain": [
       "<Figure size 640x480 with 1 Axes>"
      ]
     },
     "metadata": {},
     "output_type": "display_data"
    }
   ],
   "source": [
    "sns.countplot(x=digitos_label);"
   ]
  },
  {
   "cell_type": "markdown",
   "metadata": {},
   "source": [
    "# Kaggle Dataset A-Z"
   ]
  },
  {
   "cell_type": "code",
   "execution_count": 14,
   "metadata": {},
   "outputs": [
    {
     "name": "stderr",
     "output_type": "stream",
     "text": [
      "  % Total    % Received % Xferd  Average Speed   Time    Time     Time  Current\n",
      "                                 Dload  Upload   Total   Spent    Left  Speed\n",
      "\n",
      "  0     0    0     0    0     0      0      0 --:--:-- --:--:-- --:--:--     0\n",
      "  0     0    0     0    0     0      0      0 --:--:-- --:--:-- --:--:--     0\n",
      "  0  184M    0  579k    0     0   566k      0  0:05:33  0:00:01  0:05:32  566k\n",
      "  0  184M    0 1731k    0     0   856k      0  0:03:40  0:00:02  0:03:38  856k\n",
      "  1  184M    1 2883k    0     0   953k      0  0:03:18  0:00:03  0:03:15  953k\n",
      "  2  184M    2 4044k    0     0  1005k      0  0:03:08  0:00:04  0:03:04 1005k\n",
      "  2  184M    2 5196k    0     0  1034k      0  0:03:02  0:00:05  0:02:57 1039k\n",
      "  3  184M    3 6348k    0     0  1054k      0  0:02:59  0:00:06  0:02:53 1154k\n",
      "  3  184M    3 7500k    0     0  1068k      0  0:02:57  0:00:07  0:02:50 1153k\n",
      "  4  184M    4 8652k    0     0  1078k      0  0:02:55  0:00:08  0:02:47 1153k\n",
      "  5  184M    5 9788k    0     0  1085k      0  0:02:54  0:00:09  0:02:45 1148k\n",
      "  5  184M    5 10.6M    0     0  1091k      0  0:02:53  0:00:10  0:02:43 1148k\n",
      "  6  184M    6 11.5M    0     0  1075k      0  0:02:55  0:00:11  0:02:44 1100k\n",
      "  6  184M    6 12.7M    0     0  1081k      0  0:02:54  0:00:12  0:02:42 1100k\n",
      "  7  184M    7 13.8M    0     0  1087k      0  0:02:53  0:00:13  0:02:40 1101k\n",
      "  8  184M    8 14.9M    0     0  1090k      0  0:02:53  0:00:14  0:02:39 1101k\n",
      "  8  184M    8 16.0M    0     0  1094k      0  0:02:52  0:00:15  0:02:37 1100k\n",
      "  9  184M    9 17.1M    0     0  1098k      0  0:02:52  0:00:16  0:02:36 1148k\n",
      "  9  184M    9 18.3M    0     0  1101k      0  0:02:51  0:00:17  0:02:34 1149k\n",
      " 10  184M   10 19.4M    0     0  1104k      0  0:02:51  0:00:18  0:02:33 1148k\n",
      " 11  184M   11 20.5M    0     0  1106k      0  0:02:50  0:00:19  0:02:31 1152k\n",
      " 11  184M   11 21.7M    0     0  1109k      0  0:02:50  0:00:20  0:02:30 1155k\n",
      " 12  184M   12 22.5M    0     0  1100k      0  0:02:51  0:00:21  0:02:30 1107k\n",
      " 12  184M   12 23.7M    0     0  1102k      0  0:02:51  0:00:22  0:02:29 1107k\n",
      " 13  184M   13 24.8M    0     0  1104k      0  0:02:51  0:00:23  0:02:28 1107k\n",
      " 14  184M   14 25.9M    0     0  1106k      0  0:02:50  0:00:24  0:02:26 1106k\n",
      " 14  184M   14 27.0M    0     0  1108k      0  0:02:50  0:00:25  0:02:25 1104k\n",
      " 15  184M   15 28.2M    0     0  1110k      0  0:02:50  0:00:26  0:02:24 1155k\n",
      " 15  184M   15 29.3M    0     0  1112k      0  0:02:49  0:00:27  0:02:22 1154k\n",
      " 16  184M   16 30.4M    0     0  1113k      0  0:02:49  0:00:28  0:02:21 1155k\n",
      " 17  184M   17 31.6M    0     0  1115k      0  0:02:49  0:00:29  0:02:20 1155k\n",
      " 17  184M   17 32.7M    0     0  1115k      0  0:02:49  0:00:30  0:02:19 1151k\n",
      " 18  184M   18 33.7M    0     0  1113k      0  0:02:49  0:00:31  0:02:18 1126k\n",
      " 18  184M   18 34.7M    0     0  1111k      0  0:02:50  0:00:32  0:02:18 1104k\n",
      " 19  184M   19 35.8M    0     0  1112k      0  0:02:50  0:00:33  0:02:17 1103k\n",
      " 20  184M   20 36.9M    0     0  1113k      0  0:02:49  0:00:34  0:02:15 1104k\n",
      " 20  184M   20 38.1M    0     0  1114k      0  0:02:49  0:00:35  0:02:14 1107k\n",
      " 21  184M   21 39.2M    0     0  1115k      0  0:02:49  0:00:36  0:02:13 1130k\n",
      " 21  184M   21 40.3M    0     0  1116k      0  0:02:49  0:00:37  0:02:12 1151k\n",
      " 22  184M   22 41.4M    0     0  1117k      0  0:02:49  0:00:38  0:02:11 1152k\n",
      " 23  184M   23 42.6M    0     0  1118k      0  0:02:49  0:00:39  0:02:10 1151k\n",
      " 23  184M   23 43.7M    0     0  1119k      0  0:02:48  0:00:40  0:02:08 1151k\n",
      " 24  184M   24 44.8M    0     0  1120k      0  0:02:48  0:00:41  0:02:07 1152k\n",
      " 24  184M   24 45.7M    0     0  1115k      0  0:02:49  0:00:42  0:02:07 1104k\n",
      " 25  184M   25 46.8M    0     0  1116k      0  0:02:49  0:00:43  0:02:06 1104k\n",
      " 26  184M   26 48.0M    0     0  1117k      0  0:02:49  0:00:44  0:02:05 1107k\n",
      " 26  184M   26 49.1M    0     0  1117k      0  0:02:49  0:00:45  0:02:04 1104k\n",
      " 27  184M   27 50.2M    0     0  1118k      0  0:02:49  0:00:46  0:02:03 1106k\n",
      " 27  184M   27 51.3M    0     0  1119k      0  0:02:48  0:00:47  0:02:01 1152k\n",
      " 28  184M   28 52.5M    0     0  1120k      0  0:02:48  0:00:48  0:02:00 1155k\n",
      " 29  184M   29 53.6M    0     0  1120k      0  0:02:48  0:00:49  0:01:59 1152k\n",
      " 29  184M   29 54.7M    0     0  1121k      0  0:02:48  0:00:50  0:01:58 1152k\n",
      " 30  184M   30 55.9M    0     0  1121k      0  0:02:48  0:00:51  0:01:57 1152k\n",
      " 30  184M   30 56.7M    0     0  1117k      0  0:02:49  0:00:52  0:01:57 1106k\n",
      " 31  184M   31 57.9M    0     0  1118k      0  0:02:49  0:00:53  0:01:56 1103k\n",
      " 31  184M   31 59.0M    0     0  1119k      0  0:02:48  0:00:54  0:01:54 1103k\n",
      " 32  184M   32 60.1M    0     0  1119k      0  0:02:48  0:00:55  0:01:53 1107k\n",
      " 33  184M   33 61.2M    0     0  1120k      0  0:02:48  0:00:56  0:01:52 1104k\n",
      " 33  184M   33 62.2M    0     0  1118k      0  0:02:49  0:00:57  0:01:52 1126k\n",
      " 33  184M   33 62.7M    0     0  1107k      0  0:02:50  0:00:58  0:01:52  995k\n",
      " 34  184M   34 63.2M    0     0  1097k      0  0:02:52  0:00:59  0:01:53  867k\n",
      " 34  184M   34 63.6M    0     0  1086k      0  0:02:54  0:01:00  0:01:54  716k\n",
      " 34  184M   34 63.9M    0     0  1073k      0  0:02:56  0:01:01  0:01:55  553k\n",
      " 34  184M   34 64.2M    0     0  1060k      0  0:02:58  0:01:02  0:01:56  402k\n",
      " 34  184M   34 64.5M    0     0  1048k      0  0:03:00  0:01:03  0:01:57  355k\n",
      " 35  184M   35 64.8M    0     0  1036k      0  0:03:02  0:01:04  0:01:58  316k\n",
      " 35  184M   35 65.1M    0     0  1026k      0  0:03:04  0:01:05  0:01:59  304k\n",
      " 35  184M   35 65.5M    0     0  1016k      0  0:03:06  0:01:06  0:02:00  310k\n",
      " 35  184M   35 65.9M    0     0  1006k      0  0:03:07  0:01:07  0:02:00  336k\n",
      " 35  184M   35 66.3M    0     0   998k      0  0:03:09  0:01:08  0:02:01  371k\n",
      " 36  184M   36 66.7M    0     0   990k      0  0:03:10  0:01:09  0:02:01  403k\n",
      " 36  184M   36 67.2M    0     0   984k      0  0:03:12  0:01:10  0:02:02  438k\n",
      " 36  184M   36 67.8M    0     0   977k      0  0:03:13  0:01:11  0:02:02  473k\n",
      " 37  184M   37 68.3M    0     0   971k      0  0:03:14  0:01:12  0:02:02  502k\n",
      " 37  184M   37 68.8M    0     0   964k      0  0:03:15  0:01:13  0:02:02  508k\n",
      " 37  184M   37 69.3M    0     0   959k      0  0:03:17  0:01:14  0:02:03  531k\n",
      " 37  184M   37 70.0M    0     0   955k      0  0:03:17  0:01:15  0:02:02  556k\n",
      " 38  184M   38 70.6M    0     0   951k      0  0:03:18  0:01:16  0:02:02  582k\n",
      " 38  184M   38 71.3M    0     0   948k      0  0:03:19  0:01:17  0:02:02  608k\n",
      " 38  184M   38 71.9M    0     0   944k      0  0:03:20  0:01:18  0:02:02  646k\n",
      " 39  184M   39 72.6M    0     0   941k      0  0:03:20  0:01:19  0:02:01  665k\n",
      " 39  184M   39 73.3M    0     0   938k      0  0:03:21  0:01:20  0:02:01  675k\n",
      " 40  184M   40 73.9M    0     0   935k      0  0:03:22  0:01:21  0:02:01  678k\n",
      " 40  184M   40 74.6M    0     0   932k      0  0:03:22  0:01:22  0:02:00  684k\n",
      " 40  184M   40 75.2M    0     0   927k      0  0:03:23  0:01:23  0:02:00  662k\n",
      " 41  184M   41 75.8M    0     0   924k      0  0:03:24  0:01:24  0:02:00  652k\n",
      " 41  184M   41 76.4M    0     0   920k      0  0:03:25  0:01:25  0:02:00  640k\n",
      " 41  184M   41 77.0M    0     0   917k      0  0:03:26  0:01:26  0:02:00  627k\n",
      " 42  184M   42 77.6M    0     0   913k      0  0:03:26  0:01:27  0:01:59  608k\n",
      " 42  184M   42 78.2M    0     0   910k      0  0:03:27  0:01:28  0:01:59  620k\n",
      " 42  184M   42 78.8M    0     0   906k      0  0:03:28  0:01:29  0:01:59  614k\n",
      " 43  184M   43 79.4M    0     0   903k      0  0:03:29  0:01:30  0:01:59  611k\n",
      " 43  184M   43 80.0M    0     0   900k      0  0:03:30  0:01:31  0:01:59  610k\n",
      " 43  184M   43 80.6M    0     0   897k      0  0:03:30  0:01:32  0:01:58  611k\n",
      " 43  184M   43 81.0M    0     0   892k      0  0:03:31  0:01:33  0:01:58  585k\n",
      " 44  184M   44 81.6M    0     0   888k      0  0:03:32  0:01:34  0:01:58  572k\n",
      " 44  184M   44 82.2M    0     0   886k      0  0:03:33  0:01:35  0:01:58  582k\n",
      " 44  184M   44 82.9M    0     0   884k      0  0:03:33  0:01:36  0:01:57  595k\n",
      " 45  184M   45 83.5M    0     0   882k      0  0:03:34  0:01:37  0:01:57  608k\n",
      " 45  184M   45 84.2M    0     0   880k      0  0:03:34  0:01:38  0:01:56  649k\n",
      " 45  184M   45 84.9M    0     0   878k      0  0:03:35  0:01:39  0:01:56  678k\n",
      " 46  184M   46 85.5M    0     0   876k      0  0:03:35  0:01:40  0:01:55  681k\n",
      " 46  184M   46 86.2M    0     0   874k      0  0:03:36  0:01:41  0:01:55  681k\n",
      " 47  184M   47 86.9M    0     0   872k      0  0:03:36  0:01:42  0:01:54  684k\n",
      " 47  184M   47 87.6M    0     0   870k      0  0:03:37  0:01:43  0:01:54  688k\n",
      " 47  184M   47 88.1M    0     0   867k      0  0:03:38  0:01:44  0:01:54  649k\n",
      " 48  184M   48 88.7M    0     0   865k      0  0:03:38  0:01:45  0:01:53  640k\n",
      " 48  184M   48 89.3M    0     0   863k      0  0:03:39  0:01:46  0:01:53  636k\n",
      " 48  184M   48 90.0M    0     0   861k      0  0:03:39  0:01:47  0:01:52  640k\n",
      " 49  184M   49 90.7M    0     0   860k      0  0:03:39  0:01:48  0:01:51  636k\n",
      " 49  184M   49 91.3M    0     0   858k      0  0:03:40  0:01:49  0:01:51  672k\n",
      " 49  184M   49 92.0M    0     0   856k      0  0:03:40  0:01:50  0:01:50  684k\n",
      " 50  184M   50 92.7M    0     0   855k      0  0:03:41  0:01:51  0:01:50  688k\n",
      " 50  184M   50 93.4M    0     0   853k      0  0:03:41  0:01:52  0:01:49  684k\n",
      " 50  184M   50 94.0M    0     0   852k      0  0:03:41  0:01:53  0:01:48  681k\n",
      " 51  184M   51 94.5M    0     0   849k      0  0:03:42  0:01:54  0:01:48  652k\n",
      " 51  184M   51 95.2M    0     0   847k      0  0:03:43  0:01:55  0:01:48  643k\n",
      " 51  184M   51 95.8M    0     0   846k      0  0:03:43  0:01:56  0:01:47  639k\n",
      " 52  184M   52 96.5M    0     0   844k      0  0:03:43  0:01:57  0:01:46  640k\n",
      " 52  184M   52 97.1M    0     0   843k      0  0:03:44  0:01:58  0:01:46  640k\n",
      " 52  184M   52 97.8M    0     0   841k      0  0:03:44  0:01:59  0:01:45  671k\n",
      " 53  184M   53 98.5M    0     0   840k      0  0:03:44  0:02:00  0:01:44  681k\n",
      " 53  184M   53 99.2M    0     0   839k      0  0:03:45  0:02:01  0:01:44  688k\n",
      " 54  184M   54 99.9M    0     0   838k      0  0:03:45  0:02:02  0:01:43  691k\n",
      " 54  184M   54  100M    0     0   837k      0  0:03:45  0:02:03  0:01:42  700k\n",
      " 54  184M   54  101M    0     0   835k      0  0:03:46  0:02:04  0:01:42  681k\n",
      " 55  184M   55  101M    0     0   833k      0  0:03:46  0:02:05  0:01:41  668k\n",
      " 55  184M   55  102M    0     0   832k      0  0:03:47  0:02:06  0:01:41  659k\n",
      " 55  184M   55  103M    0     0   831k      0  0:03:47  0:02:07  0:01:40  652k\n",
      " 56  184M   56  103M    0     0   829k      0  0:03:47  0:02:08  0:01:39  643k\n",
      " 56  184M   56  104M    0     0   828k      0  0:03:48  0:02:09  0:01:39  662k\n",
      " 56  184M   56  105M    0     0   827k      0  0:03:48  0:02:10  0:01:38  674k\n",
      " 57  184M   57  105M    0     0   826k      0  0:03:48  0:02:11  0:01:37  684k\n",
      " 57  184M   57  106M    0     0   825k      0  0:03:49  0:02:12  0:01:37  691k\n",
      " 58  184M   58  107M    0     0   824k      0  0:03:49  0:02:13  0:01:36  700k\n",
      " 58  184M   58  107M    0     0   824k      0  0:03:49  0:02:14  0:01:35  707k\n",
      " 58  184M   58  108M    0     0   822k      0  0:03:50  0:02:15  0:01:35  678k\n",
      " 59  184M   59  109M    0     0   820k      0  0:03:50  0:02:16  0:01:34  668k\n",
      " 59  184M   59  109M    0     0   819k      0  0:03:50  0:02:17  0:01:33  659k\n",
      " 59  184M   59  110M    0     0   818k      0  0:03:51  0:02:18  0:01:33  649k\n",
      " 60  184M   60  111M    0     0   817k      0  0:03:51  0:02:19  0:01:32  642k\n",
      " 60  184M   60  111M    0     0   816k      0  0:03:51  0:02:20  0:01:31  672k\n",
      " 60  184M   60  112M    0     0   815k      0  0:03:51  0:02:21  0:01:30  675k\n",
      " 61  184M   61  113M    0     0   814k      0  0:03:52  0:02:22  0:01:30  681k\n",
      " 61  184M   61  113M    0     0   813k      0  0:03:52  0:02:23  0:01:29  684k\n",
      " 61  184M   61  114M    0     0   813k      0  0:03:52  0:02:24  0:01:28  684k\n",
      " 62  184M   62  114M    0     0   811k      0  0:03:53  0:02:25  0:01:28  659k\n",
      " 62  184M   62  115M    0     0   810k      0  0:03:53  0:02:26  0:01:27  659k\n",
      " 62  184M   62  116M    0     0   809k      0  0:03:53  0:02:27  0:01:26  656k\n",
      " 63  184M   63  116M    0     0   808k      0  0:03:53  0:02:28  0:01:25  652k\n",
      " 63  184M   63  117M    0     0   807k      0  0:03:54  0:02:29  0:01:25  652k\n",
      " 64  184M   64  118M    0     0   806k      0  0:03:54  0:02:30  0:01:24  674k\n",
      " 64  184M   64  118M    0     0   805k      0  0:03:54  0:02:31  0:01:23  675k\n",
      " 64  184M   64  119M    0     0   805k      0  0:03:54  0:02:32  0:01:22  675k\n",
      " 65  184M   65  120M    0     0   804k      0  0:03:55  0:02:33  0:01:22  675k\n",
      " 65  184M   65  120M    0     0   803k      0  0:03:55  0:02:34  0:01:21  672k\n",
      " 65  184M   65  121M    0     0   801k      0  0:03:55  0:02:35  0:01:20  653k\n",
      " 66  184M   66  122M    0     0   801k      0  0:03:56  0:02:36  0:01:20  655k\n",
      " 66  184M   66  122M    0     0   800k      0  0:03:56  0:02:37  0:01:19  659k\n",
      " 66  184M   66  123M    0     0   799k      0  0:03:56  0:02:38  0:01:18  659k\n",
      " 67  184M   67  124M    0     0   798k      0  0:03:56  0:02:39  0:01:17  659k\n",
      " 67  184M   67  124M    0     0   797k      0  0:03:56  0:02:40  0:01:16  678k\n",
      " 67  184M   67  125M    0     0   797k      0  0:03:57  0:02:41  0:01:16  675k\n",
      " 68  184M   68  126M    0     0   796k      0  0:03:57  0:02:42  0:01:15  675k\n",
      " 68  184M   68  126M    0     0   795k      0  0:03:57  0:02:43  0:01:14  678k\n",
      " 68  184M   68  127M    0     0   795k      0  0:03:57  0:02:44  0:01:13  681k\n",
      " 69  184M   69  127M    0     0   794k      0  0:03:58  0:02:45  0:01:13  674k\n",
      " 69  184M   69  128M    0     0   792k      0  0:03:58  0:02:46  0:01:12  656k\n",
      " 69  184M   69  129M    0     0   792k      0  0:03:58  0:02:47  0:01:11  646k\n",
      " 70  184M   70  129M    0     0   791k      0  0:03:59  0:02:48  0:01:11  640k\n",
      " 70  184M   70  130M    0     0   790k      0  0:03:59  0:02:49  0:01:10  636k\n",
      " 71  184M   71  131M    0     0   789k      0  0:03:59  0:02:50  0:01:09  640k\n",
      " 71  184M   71  131M    0     0   788k      0  0:03:59  0:02:51  0:01:08  656k\n",
      " 71  184M   71  132M    0     0   788k      0  0:03:59  0:02:52  0:01:07  659k\n",
      " 72  184M   72  133M    0     0   787k      0  0:04:00  0:02:53  0:01:07  662k\n",
      " 72  184M   72  133M    0     0   786k      0  0:04:00  0:02:54  0:01:06  662k\n",
      " 72  184M   72  134M    0     0   785k      0  0:04:00  0:02:55  0:01:05  659k\n",
      " 73  184M   73  134M    0     0   784k      0  0:04:01  0:02:56  0:01:05  633k\n",
      " 73  184M   73  135M    0     0   783k      0  0:04:01  0:02:57  0:01:04  633k\n",
      " 73  184M   73  136M    0     0   783k      0  0:04:01  0:02:58  0:01:03  636k\n",
      " 74  184M   74  136M    0     0   782k      0  0:04:01  0:02:59  0:01:02  633k\n",
      " 74  184M   74  137M    0     0   782k      0  0:04:01  0:03:00  0:01:01  643k\n",
      " 74  184M   74  138M    0     0   781k      0  0:04:01  0:03:01  0:01:00  675k\n",
      " 75  184M   75  138M    0     0   780k      0  0:04:02  0:03:02  0:01:00  678k\n",
      " 75  184M   75  139M    0     0   780k      0  0:04:02  0:03:03  0:00:59  681k\n",
      " 75  184M   75  140M    0     0   779k      0  0:04:02  0:03:04  0:00:58  687k\n",
      " 76  184M   76  140M    0     0   779k      0  0:04:02  0:03:05  0:00:57  687k\n",
      " 76  184M   76  141M    0     0   778k      0  0:04:02  0:03:06  0:00:56  659k\n",
      " 76  184M   76  141M    0     0   777k      0  0:04:03  0:03:07  0:00:56  653k\n",
      " 77  184M   77  142M    0     0   776k      0  0:04:03  0:03:08  0:00:55  649k\n",
      " 77  184M   77  143M    0     0   776k      0  0:04:03  0:03:09  0:00:54  649k\n",
      " 77  184M   77  144M    0     0   776k      0  0:04:03  0:03:10  0:00:53  649k\n",
      " 78  184M   78  144M    0     0   775k      0  0:04:03  0:03:11  0:00:52  674k\n",
      " 78  184M   78  145M    0     0   775k      0  0:04:03  0:03:12  0:00:51  684k\n",
      " 79  184M   79  145M    0     0   774k      0  0:04:04  0:03:13  0:00:51  682k\n",
      " 79  184M   79  146M    0     0   774k      0  0:04:04  0:03:14  0:00:50  681k\n",
      " 79  184M   79  147M    0     0   773k      0  0:04:04  0:03:15  0:00:49  684k\n",
      " 80  184M   80  147M    0     0   772k      0  0:04:04  0:03:16  0:00:48  665k\n",
      " 80  184M   80  148M    0     0   772k      0  0:04:04  0:03:17  0:00:47  659k\n",
      " 80  184M   80  149M    0     0   771k      0  0:04:05  0:03:18  0:00:47  659k\n",
      " 81  184M   81  149M    0     0   771k      0  0:04:05  0:03:19  0:00:46  656k\n",
      " 81  184M   81  150M    0     0   770k      0  0:04:05  0:03:20  0:00:45  655k\n",
      " 81  184M   81  151M    0     0   770k      0  0:04:05  0:03:21  0:00:44  678k\n",
      " 82  184M   82  151M    0     0   770k      0  0:04:05  0:03:22  0:00:43  688k\n",
      " 82  184M   82  152M    0     0   769k      0  0:04:05  0:03:23  0:00:42  694k\n",
      " 82  184M   82  153M    0     0   769k      0  0:04:05  0:03:24  0:00:41  697k\n",
      " 83  184M   83  153M    0     0   768k      0  0:04:05  0:03:25  0:00:40  694k\n",
      " 83  184M   83  154M    0     0   768k      0  0:04:06  0:03:26  0:00:40  694k\n",
      " 84  184M   84  155M    0     0   767k      0  0:04:06  0:03:27  0:00:39  659k\n",
      " 84  184M   84  155M    0     0   766k      0  0:04:06  0:03:28  0:00:38  649k\n",
      " 84  184M   84  156M    0     0   766k      0  0:04:06  0:03:29  0:00:37  646k\n",
      " 85  184M   85  157M    0     0   765k      0  0:04:06  0:03:30  0:00:36  646k\n",
      " 85  184M   85  157M    0     0   765k      0  0:04:07  0:03:31  0:00:36  640k\n",
      " 85  184M   85  158M    0     0   765k      0  0:04:07  0:03:32  0:00:35  672k\n",
      " 86  184M   86  159M    0     0   764k      0  0:04:07  0:03:33  0:00:34  681k\n",
      " 86  184M   86  159M    0     0   764k      0  0:04:07  0:03:34  0:00:33  684k\n",
      " 86  184M   86  160M    0     0   764k      0  0:04:07  0:03:35  0:00:32  684k\n",
      " 87  184M   87  161M    0     0   763k      0  0:04:07  0:03:36  0:00:31  697k\n",
      " 87  184M   87  161M    0     0   763k      0  0:04:07  0:03:37  0:00:30  675k\n",
      " 87  184M   87  162M    0     0   762k      0  0:04:07  0:03:38  0:00:29  668k\n",
      " 88  184M   88  163M    0     0   762k      0  0:04:08  0:03:39  0:00:29  665k\n",
      " 88  184M   88  163M    0     0   761k      0  0:04:08  0:03:40  0:00:28  662k\n",
      " 88  184M   88  164M    0     0   761k      0  0:04:08  0:03:41  0:00:27  649k\n",
      " 89  184M   89  164M    0     0   760k      0  0:04:08  0:03:42  0:00:26  662k\n",
      " 89  184M   89  165M    0     0   760k      0  0:04:08  0:03:43  0:00:25  659k\n",
      " 90  184M   90  166M    0     0   759k      0  0:04:08  0:03:44  0:00:24  656k\n",
      " 90  184M   90  166M    0     0   759k      0  0:04:09  0:03:45  0:00:24  656k\n",
      " 90  184M   90  167M    0     0   758k      0  0:04:09  0:03:46  0:00:23  656k\n",
      " 90  184M   90  168M    0     0   757k      0  0:04:09  0:03:47  0:00:22  633k\n",
      " 91  184M   91  168M    0     0   757k      0  0:04:09  0:03:48  0:00:21  630k\n",
      " 91  184M   91  169M    0     0   757k      0  0:04:09  0:03:49  0:00:20  633k\n",
      " 92  184M   92  169M    0     0   756k      0  0:04:09  0:03:50  0:00:19  636k\n",
      " 92  184M   92  170M    0     0   756k      0  0:04:09  0:03:51  0:00:18  643k\n",
      " 92  184M   92  171M    0     0   756k      0  0:04:10  0:03:52  0:00:18  681k\n",
      " 93  184M   93  172M    0     0   756k      0  0:04:10  0:03:53  0:00:17  697k\n",
      " 93  184M   93  172M    0     0   756k      0  0:04:10  0:03:54  0:00:16  710k\n",
      " 93  184M   93  173M    0     0   756k      0  0:04:10  0:03:55  0:00:15  723k\n",
      " 94  184M   94  174M    0     0   755k      0  0:04:10  0:03:56  0:00:14  729k\n",
      " 94  184M   94  174M    0     0   755k      0  0:04:10  0:03:57  0:00:13  716k\n",
      " 95  184M   95  175M    0     0   755k      0  0:04:10  0:03:58  0:00:12  704k\n",
      " 95  184M   95  176M    0     0   754k      0  0:04:10  0:03:59  0:00:11  694k\n",
      " 95  184M   95  176M    0     0   754k      0  0:04:10  0:04:00  0:00:10  681k\n",
      " 96  184M   96  177M    0     0   754k      0  0:04:10  0:04:01  0:00:09  672k\n",
      " 96  184M   96  178M    0     0   753k      0  0:04:10  0:04:02  0:00:08  678k\n",
      " 96  184M   96  178M    0     0   753k      0  0:04:10  0:04:03  0:00:07  681k\n",
      " 97  184M   97  179M    0     0   753k      0  0:04:11  0:04:04  0:00:07  678k\n",
      " 97  184M   97  180M    0     0   752k      0  0:04:11  0:04:05  0:00:06  678k\n",
      " 97  184M   97  180M    0     0   752k      0  0:04:11  0:04:06  0:00:05  677k\n",
      " 98  184M   98  181M    0     0   752k      0  0:04:11  0:04:07  0:00:04  678k\n",
      " 98  184M   98  182M    0     0   751k      0  0:04:11  0:04:08  0:00:03  656k\n",
      " 98  184M   98  182M    0     0   751k      0  0:04:11  0:04:09  0:00:02  655k\n",
      " 99  184M   99  183M    0     0   750k      0  0:04:11  0:04:10  0:00:01  649k\n",
      " 99  184M   99  183M    0     0   750k      0  0:04:11  0:04:11 --:--:--  646k\n",
      " 99  184M   99  184M    0     0   750k      0  0:04:12  0:04:12 --:--:--  640k\n",
      "100  184M  100  184M    0     0   750k      0  0:04:12  0:04:12 --:--:--  659k\n",
      "  % Total    % Received % Xferd  Average Speed   Time    Time     Time  Current\n",
      "                                 Dload  Upload   Total   Spent    Left  Speed\n",
      "\n",
      "  0     0    0     0    0     0      0      0 --:--:-- --:--:-- --:--:--     0\n",
      "  0  184M    0  123k    0     0   230k      0  0:13:40 --:--:--  0:13:40  230k\n",
      "  0  184M    0  771k    0     0   501k      0  0:06:17  0:00:01  0:06:16  501k\n",
      "  0  184M    0 1427k    0     0   562k      0  0:05:36  0:00:02  0:05:34  562k\n",
      "  1  184M    1 2142k    0     0   605k      0  0:05:12  0:00:03  0:05:09  605k\n",
      "  1  184M    1 2974k    0     0   655k      0  0:04:48  0:00:04  0:04:44  655k\n",
      "  2  184M    2 3854k    0     0   696k      0  0:04:31  0:00:05  0:04:26  746k\n",
      "  2  184M    2 4734k    0     0   724k      0  0:04:21  0:00:06  0:04:15  792k\n",
      "  2  184M    2 5566k    0     0   738k      0  0:04:16  0:00:07  0:04:09  827k\n",
      "  3  184M    3 6382k    0     0   747k      0  0:04:12  0:00:08  0:04:04  848k\n",
      "  3  184M    3 7166k    0     0   751k      0  0:04:11  0:00:09  0:04:02  838k\n",
      "  4  184M    4 7918k    0     0   751k      0  0:04:11  0:00:10  0:04:01  812k\n",
      "  4  184M    4 8622k    0     0   747k      0  0:04:13  0:00:11  0:04:02  777k\n",
      "  4  184M    4 9294k    0     0   741k      0  0:04:15  0:00:12  0:04:03  745k\n",
      "  5  184M    5 9918k    0     0   732k      0  0:04:18  0:00:13  0:04:05  707k\n",
      "  5  184M    5 10.2M    0     0   723k      0  0:04:21  0:00:14  0:04:07  672k\n",
      "  5  184M    5 10.8M    0     0   716k      0  0:04:23  0:00:15  0:04:08  643k\n",
      "  6  184M    6 11.4M    0     0   706k      0  0:04:27  0:00:16  0:04:11  611k\n",
      "  6  184M    6 11.9M    0     0   697k      0  0:04:31  0:00:17  0:04:14  588k\n",
      "  6  184M    6 12.4M    0     0   687k      0  0:04:34  0:00:18  0:04:16  566k\n",
      "  7  184M    7 12.9M    0     0   677k      0  0:04:38  0:00:19  0:04:19  543k\n",
      "  7  184M    7 13.4M    0     0   668k      0  0:04:42  0:00:20  0:04:22  518k\n",
      "  7  184M    7 13.8M    0     0   659k      0  0:04:46  0:00:21  0:04:25  505k\n",
      "  7  184M    7 14.3M    0     0   651k      0  0:04:50  0:00:22  0:04:28  489k\n",
      "  8  184M    8 14.7M    0     0   643k      0  0:04:53  0:00:23  0:04:30  480k\n",
      "  8  184M    8 15.2M    0     0   636k      0  0:04:57  0:00:24  0:04:33  473k\n",
      "  8  184M    8 15.7M    0     0   629k      0  0:05:00  0:00:25  0:04:35  470k\n",
      "  8  184M    8 16.1M    0     0   622k      0  0:05:03  0:00:26  0:04:37  460k\n",
      "  9  184M    9 16.6M    0     0   618k      0  0:05:05  0:00:27  0:04:38  470k\n",
      "  9  184M    9 17.1M    0     0   614k      0  0:05:07  0:00:28  0:04:39  480k\n",
      "  9  184M    9 17.6M    0     0   612k      0  0:05:08  0:00:29  0:04:39  496k\n",
      "  9  184M    9 18.2M    0     0   610k      0  0:05:09  0:00:30  0:04:39  511k\n",
      " 10  184M   10 18.7M    0     0   607k      0  0:05:11  0:00:31  0:04:40  531k\n",
      " 10  184M   10 19.2M    0     0   605k      0  0:05:12  0:00:32  0:04:40  534k\n",
      " 10  184M   10 19.7M    0     0   603k      0  0:05:13  0:00:33  0:04:40  540k\n",
      " 11  184M   11 20.3M    0     0   602k      0  0:05:13  0:00:34  0:04:39  543k\n",
      " 11  184M   11 20.8M    0     0   600k      0  0:05:14  0:00:35  0:04:39  541k\n",
      " 11  184M   11 21.2M    0     0   594k      0  0:05:17  0:00:36  0:04:41  514k\n",
      " 11  184M   11 21.7M    0     0   593k      0  0:05:18  0:00:37  0:04:41  512k\n",
      " 12  184M   12 22.2M    0     0   590k      0  0:05:20  0:00:38  0:04:42  502k\n",
      " 12  184M   12 22.7M    0     0   587k      0  0:05:21  0:00:39  0:04:42  486k\n",
      " 12  184M   12 23.1M    0     0   584k      0  0:05:23  0:00:40  0:04:43  470k\n",
      " 12  184M   12 23.6M    0     0   581k      0  0:05:24  0:00:41  0:04:43  487k\n",
      " 13  184M   13 24.0M    0     0   579k      0  0:05:26  0:00:42  0:04:44  476k\n",
      " 13  184M   13 24.5M    0     0   576k      0  0:05:27  0:00:43  0:04:44  470k\n",
      " 13  184M   13 24.9M    0     0   574k      0  0:05:29  0:00:44  0:04:45  467k\n",
      " 13  184M   13 25.4M    0     0   571k      0  0:05:30  0:00:45  0:04:45  470k\n",
      " 14  184M   14 25.8M    0     0   569k      0  0:05:31  0:00:46  0:04:45  467k\n",
      " 14  184M   14 26.3M    0     0   568k      0  0:05:32  0:00:47  0:04:45  470k\n",
      " 14  184M   14 26.9M    0     0   567k      0  0:05:33  0:00:48  0:04:45  486k\n",
      " 14  184M   14 27.3M    0     0   565k      0  0:05:34  0:00:49  0:04:45  486k\n",
      " 15  184M   15 27.8M    0     0   563k      0  0:05:35  0:00:50  0:04:45  486k\n",
      " 15  184M   15 28.2M    0     0   561k      0  0:05:36  0:00:51  0:04:45  486k\n",
      " 15  184M   15 28.7M    0     0   559k      0  0:05:37  0:00:52  0:04:45  480k\n",
      " 15  184M   15 29.1M    0     0   558k      0  0:05:38  0:00:53  0:04:45  467k\n",
      " 16  184M   16 29.6M    0     0   556k      0  0:05:39  0:00:54  0:04:45  467k\n",
      " 16  184M   16 30.0M    0     0   554k      0  0:05:40  0:00:55  0:04:45  467k\n",
      " 16  184M   16 30.5M    0     0   553k      0  0:05:41  0:00:56  0:04:45  473k\n",
      " 16  184M   16 31.0M    0     0   551k      0  0:05:42  0:00:57  0:04:45  470k\n",
      " 17  184M   17 31.5M    0     0   551k      0  0:05:42  0:00:58  0:04:44  480k\n",
      " 17  184M   17 31.9M    0     0   550k      0  0:05:43  0:00:59  0:04:44  482k\n",
      " 17  184M   17 32.4M    0     0   548k      0  0:05:44  0:01:00  0:04:44  483k\n",
      " 17  184M   17 32.9M    0     0   547k      0  0:05:45  0:01:01  0:04:44  480k\n",
      " 18  184M   18 33.3M    0     0   546k      0  0:05:46  0:01:02  0:04:44  483k\n",
      " 18  184M   18 33.8M    0     0   545k      0  0:05:46  0:01:03  0:04:43  470k\n",
      " 18  184M   18 34.2M    0     0   543k      0  0:05:47  0:01:04  0:04:43  467k\n",
      " 18  184M   18 34.7M    0     0   542k      0  0:05:48  0:01:05  0:04:43  463k\n",
      " 19  184M   19 35.1M    0     0   540k      0  0:05:49  0:01:06  0:04:43  454k\n",
      " 19  184M   19 35.5M    0     0   538k      0  0:05:51  0:01:07  0:04:44  441k\n",
      " 19  184M   19 36.0M    0     0   538k      0  0:05:50  0:01:08  0:04:42  457k\n",
      " 19  184M   19 36.5M    0     0   538k      0  0:05:51  0:01:09  0:04:42  464k\n",
      " 20  184M   20 37.0M    0     0   537k      0  0:05:51  0:01:10  0:04:41  470k\n",
      " 20  184M   20 37.4M    0     0   536k      0  0:05:52  0:01:11  0:04:41  476k\n",
      " 20  184M   20 37.9M    0     0   535k      0  0:05:53  0:01:12  0:04:41  492k\n",
      " 20  184M   20 38.3M    0     0   534k      0  0:05:53  0:01:13  0:04:40  476k\n",
      " 21  184M   21 38.8M    0     0   533k      0  0:05:54  0:01:14  0:04:40  467k\n",
      " 21  184M   21 39.2M    0     0   532k      0  0:05:55  0:01:15  0:04:40  460k\n",
      " 21  184M   21 39.7M    0     0   531k      0  0:05:56  0:01:16  0:04:40  457k\n",
      " 21  184M   21 40.1M    0     0   529k      0  0:05:56  0:01:17  0:04:39  446k\n",
      " 21  184M   21 40.5M    0     0   528k      0  0:05:57  0:01:18  0:04:39  444k\n",
      " 22  184M   22 41.0M    0     0   528k      0  0:05:57  0:01:19  0:04:38  457k\n",
      " 22  184M   22 41.5M    0     0   528k      0  0:05:58  0:01:20  0:04:38  464k\n",
      " 22  184M   22 41.9M    0     0   527k      0  0:05:58  0:01:21  0:04:37  470k\n",
      " 22  184M   22 42.4M    0     0   526k      0  0:05:58  0:01:22  0:04:36  481k\n",
      " 23  184M   23 42.9M    0     0   526k      0  0:05:59  0:01:23  0:04:36  483k\n",
      " 23  184M   23 43.3M    0     0   525k      0  0:05:59  0:01:24  0:04:35  476k\n",
      " 23  184M   23 43.8M    0     0   525k      0  0:06:00  0:01:25  0:04:35  476k\n",
      " 23  184M   23 44.3M    0     0   524k      0  0:06:00  0:01:26  0:04:34  473k\n",
      " 24  184M   24 44.7M    0     0   523k      0  0:06:01  0:01:27  0:04:34  470k\n",
      " 24  184M   24 45.1M    0     0   522k      0  0:06:01  0:01:28  0:04:33  464k\n",
      " 24  184M   24 45.6M    0     0   522k      0  0:06:02  0:01:29  0:04:33  464k\n",
      " 24  184M   24 46.1M    0     0   521k      0  0:06:02  0:01:30  0:04:32  464k\n",
      " 25  184M   25 46.5M    0     0   521k      0  0:06:02  0:01:31  0:04:31  467k\n",
      " 25  184M   25 47.0M    0     0   520k      0  0:06:03  0:01:32  0:04:31  467k\n",
      " 25  184M   25 47.5M    0     0   520k      0  0:06:03  0:01:33  0:04:30  479k\n",
      " 25  184M   25 47.9M    0     0   519k      0  0:06:03  0:01:34  0:04:29  476k\n",
      " 26  184M   26 48.4M    0     0   519k      0  0:06:04  0:01:35  0:04:29  476k\n",
      " 26  184M   26 48.9M    0     0   519k      0  0:06:04  0:01:36  0:04:28  479k\n",
      " 26  184M   26 49.4M    0     0   518k      0  0:06:04  0:01:37  0:04:27  483k\n",
      " 26  184M   26 49.8M    0     0   517k      0  0:06:05  0:01:38  0:04:27  467k\n",
      " 27  184M   27 50.2M    0     0   517k      0  0:06:05  0:01:39  0:04:26  470k\n",
      " 27  184M   27 50.7M    0     0   516k      0  0:06:05  0:01:40  0:04:25  467k\n",
      " 27  184M   27 51.2M    0     0   516k      0  0:06:06  0:01:41  0:04:25  464k\n",
      " 27  184M   27 51.6M    0     0   516k      0  0:06:06  0:01:42  0:04:24  464k\n",
      " 28  184M   28 52.1M    0     0   515k      0  0:06:06  0:01:43  0:04:23  476k\n",
      " 28  184M   28 52.6M    0     0   515k      0  0:06:06  0:01:44  0:04:22  476k\n",
      " 28  184M   28 53.0M    0     0   514k      0  0:06:07  0:01:45  0:04:22  480k\n",
      " 28  184M   28 53.5M    0     0   514k      0  0:06:07  0:01:46  0:04:21  476k\n",
      " 29  184M   29 53.9M    0     0   514k      0  0:06:07  0:01:47  0:04:20  473k\n",
      " 29  184M   29 54.4M    0     0   513k      0  0:06:08  0:01:48  0:04:20  463k\n",
      " 29  184M   29 54.8M    0     0   513k      0  0:06:08  0:01:49  0:04:19  467k\n",
      " 29  184M   29 55.3M    0     0   513k      0  0:06:08  0:01:50  0:04:18  473k\n",
      " 30  184M   30 55.8M    0     0   513k      0  0:06:08  0:01:51  0:04:17  483k\n",
      " 30  184M   30 56.3M    0     0   512k      0  0:06:08  0:01:52  0:04:16  486k\n",
      " 30  184M   30 56.8M    0     0   512k      0  0:06:08  0:01:53  0:04:15  499k\n",
      " 31  184M   31 57.3M    0     0   512k      0  0:06:08  0:01:54  0:04:14  499k\n",
      " 31  184M   31 57.8M    0     0   512k      0  0:06:09  0:01:55  0:04:14  495k\n",
      " 31  184M   31 58.2M    0     0   512k      0  0:06:09  0:01:56  0:04:13  492k\n",
      " 31  184M   31 58.7M    0     0   511k      0  0:06:09  0:01:57  0:04:12  492k\n",
      " 32  184M   32 59.2M    0     0   511k      0  0:06:09  0:01:58  0:04:11  492k\n",
      " 32  184M   32 59.7M    0     0   511k      0  0:06:09  0:01:59  0:04:10  489k\n",
      " 32  184M   32 60.2M    0     0   511k      0  0:06:09  0:02:00  0:04:09  490k\n",
      " 32  184M   32 60.6M    0     0   511k      0  0:06:10  0:02:01  0:04:09  483k\n",
      " 33  184M   33 61.1M    0     0   510k      0  0:06:10  0:02:02  0:04:08  486k\n",
      " 33  184M   33 61.5M    0     0   510k      0  0:06:10  0:02:03  0:04:07  480k\n",
      " 33  184M   33 62.0M    0     0   510k      0  0:06:10  0:02:04  0:04:06  480k\n",
      " 33  184M   33 62.5M    0     0   510k      0  0:06:10  0:02:05  0:04:05  476k\n",
      " 34  184M   34 62.9M    0     0   509k      0  0:06:11  0:02:06  0:04:05  473k\n",
      " 34  184M   34 63.4M    0     0   509k      0  0:06:11  0:02:07  0:04:04  466k\n",
      " 34  184M   34 63.8M    0     0   508k      0  0:06:11  0:02:08  0:04:03  470k\n",
      " 34  184M   34 64.3M    0     0   508k      0  0:06:11  0:02:09  0:04:02  460k\n",
      " 35  184M   35 64.8M    0     0   508k      0  0:06:11  0:02:10  0:04:01  466k\n",
      " 35  184M   35 65.2M    0     0   508k      0  0:06:12  0:02:11  0:04:01  473k\n",
      " 35  184M   35 65.7M    0     0   507k      0  0:06:12  0:02:12  0:04:00  473k\n",
      " 35  184M   35 66.2M    0     0   507k      0  0:06:12  0:02:13  0:03:59  473k\n",
      " 36  184M   36 66.6M    0     0   507k      0  0:06:12  0:02:14  0:03:58  482k\n",
      " 36  184M   36 67.1M    0     0   507k      0  0:06:12  0:02:15  0:03:57  473k\n",
      " 36  184M   36 67.5M    0     0   506k      0  0:06:13  0:02:16  0:03:57  470k\n",
      " 36  184M   36 68.0M    0     0   506k      0  0:06:13  0:02:17  0:03:56  470k\n",
      " 37  184M   37 68.4M    0     0   506k      0  0:06:13  0:02:18  0:03:55  467k\n",
      " 37  184M   37 68.8M    0     0   505k      0  0:06:14  0:02:19  0:03:55  454k\n",
      " 37  184M   37 69.3M    0     0   505k      0  0:06:14  0:02:20  0:03:54  464k\n",
      " 37  184M   37 69.8M    0     0   505k      0  0:06:14  0:02:21  0:03:53  466k\n",
      " 38  184M   38 70.3M    0     0   505k      0  0:06:14  0:02:22  0:03:52  466k\n",
      " 38  184M   38 70.7M    0     0   504k      0  0:06:14  0:02:23  0:03:51  467k\n",
      " 38  184M   38 71.2M    0     0   504k      0  0:06:14  0:02:24  0:03:50  476k\n",
      " 38  184M   38 71.6M    0     0   504k      0  0:06:15  0:02:25  0:03:50  463k\n",
      " 39  184M   39 72.1M    0     0   503k      0  0:06:15  0:02:26  0:03:49  461k\n",
      " 39  184M   39 72.5M    0     0   503k      0  0:06:15  0:02:27  0:03:48  461k\n",
      " 39  184M   39 73.0M    0     0   503k      0  0:06:15  0:02:28  0:03:47  460k\n",
      " 39  184M   39 73.4M    0     0   502k      0  0:06:15  0:02:29  0:03:46  457k\n",
      " 40  184M   40 73.9M    0     0   502k      0  0:06:16  0:02:30  0:03:46  464k\n",
      " 40  184M   40 74.4M    0     0   502k      0  0:06:16  0:02:31  0:03:45  470k\n",
      " 40  184M   40 74.8M    0     0   502k      0  0:06:16  0:02:32  0:03:44  473k\n",
      " 40  184M   40 75.3M    0     0   502k      0  0:06:16  0:02:33  0:03:43  476k\n",
      " 41  184M   41 75.8M    0     0   502k      0  0:06:16  0:02:34  0:03:42  483k\n",
      " 41  184M   41 76.2M    0     0   502k      0  0:06:16  0:02:35  0:03:41  479k\n",
      " 41  184M   41 76.7M    0     0   501k      0  0:06:16  0:02:36  0:03:40  473k\n",
      " 41  184M   41 77.1M    0     0   501k      0  0:06:16  0:02:37  0:03:39  470k\n",
      " 42  184M   42 77.6M    0     0   501k      0  0:06:17  0:02:38  0:03:39  463k\n",
      " 42  184M   42 78.0M    0     0   500k      0  0:06:17  0:02:39  0:03:38  457k\n",
      " 42  184M   42 78.4M    0     0   500k      0  0:06:17  0:02:40  0:03:37  448k\n",
      " 42  184M   42 78.9M    0     0   500k      0  0:06:17  0:02:41  0:03:36  451k\n",
      " 42  184M   42 79.3M    0     0   500k      0  0:06:18  0:02:42  0:03:36  454k\n",
      " 43  184M   43 79.8M    0     0   500k      0  0:06:18  0:02:43  0:03:35  463k\n",
      " 43  184M   43 80.3M    0     0   500k      0  0:06:18  0:02:44  0:03:34  473k\n",
      " 43  184M   43 80.8M    0     0   500k      0  0:06:18  0:02:45  0:03:33  492k\n",
      " 44  184M   44 81.3M    0     0   500k      0  0:06:18  0:02:46  0:03:32  499k\n",
      " 44  184M   44 81.8M    0     0   500k      0  0:06:18  0:02:47  0:03:31  499k\n",
      " 44  184M   44 82.3M    0     0   500k      0  0:06:18  0:02:48  0:03:30  499k\n",
      " 44  184M   44 82.7M    0     0   500k      0  0:06:18  0:02:49  0:03:29  499k\n",
      " 45  184M   45 83.2M    0     0   499k      0  0:06:18  0:02:50  0:03:28  489k\n",
      " 45  184M   45 83.7M    0     0   500k      0  0:06:18  0:02:51  0:03:27  492k\n",
      " 45  184M   45 84.2M    0     0   499k      0  0:06:18  0:02:52  0:03:26  489k\n",
      " 45  184M   45 84.6M    0     0   499k      0  0:06:18  0:02:53  0:03:25  486k\n",
      " 46  184M   46 85.1M    0     0   499k      0  0:06:18  0:02:54  0:03:24  480k\n",
      " 46  184M   46 85.5M    0     0   499k      0  0:06:18  0:02:55  0:03:23  476k\n",
      " 46  184M   46 85.9M    0     0   498k      0  0:06:19  0:02:56  0:03:23  457k\n",
      " 46  184M   46 86.3M    0     0   498k      0  0:06:19  0:02:57  0:03:22  444k\n",
      " 46  184M   46 86.7M    0     0   497k      0  0:06:19  0:02:58  0:03:21  432k\n",
      " 47  184M   47 87.2M    0     0   497k      0  0:06:20  0:02:59  0:03:21  425k\n",
      " 47  184M   47 87.5M    0     0   496k      0  0:06:20  0:03:00  0:03:20  412k\n",
      " 47  184M   47 88.0M    0     0   496k      0  0:06:20  0:03:01  0:03:19  419k\n",
      " 47  184M   47 88.4M    0     0   496k      0  0:06:20  0:03:02  0:03:18  432k\n",
      " 48  184M   48 88.9M    0     0   496k      0  0:06:21  0:03:03  0:03:18  441k\n",
      " 48  184M   48 89.4M    0     0   496k      0  0:06:21  0:03:04  0:03:17  451k\n",
      " 48  184M   48 89.8M    0     0   496k      0  0:06:21  0:03:05  0:03:16  467k\n",
      " 48  184M   48 90.3M    0     0   495k      0  0:06:21  0:03:06  0:03:15  470k\n",
      " 49  184M   49 90.8M    0     0   495k      0  0:06:21  0:03:07  0:03:14  473k\n",
      " 49  184M   49 91.2M    0     0   495k      0  0:06:21  0:03:08  0:03:13  476k\n",
      " 49  184M   49 91.7M    0     0   495k      0  0:06:21  0:03:09  0:03:12  476k\n",
      " 49  184M   49 92.2M    0     0   495k      0  0:06:21  0:03:10  0:03:11  476k\n",
      " 50  184M   50 92.6M    0     0   495k      0  0:06:21  0:03:11  0:03:10  467k\n",
      " 50  184M   50 93.0M    0     0   495k      0  0:06:21  0:03:12  0:03:09  467k\n",
      " 50  184M   50 93.5M    0     0   495k      0  0:06:21  0:03:13  0:03:08  470k\n",
      " 50  184M   50 94.0M    0     0   495k      0  0:06:21  0:03:14  0:03:07  474k\n",
      " 51  184M   51 94.5M    0     0   495k      0  0:06:21  0:03:15  0:03:06  480k\n",
      " 51  184M   51 95.5M    0     0   497k      0  0:06:19  0:03:16  0:03:03  604k\n",
      " 52  184M   52 96.7M    0     0   501k      0  0:06:17  0:03:17  0:03:00  739k\n",
      " 52  184M   52 97.8M    0     0   504k      0  0:06:14  0:03:18  0:02:56  870k\n",
      " 53  184M   53 98.9M    0     0   507k      0  0:06:12  0:03:19  0:02:53 1001k\n",
      " 54  184M   54  100M    0     0   511k      0  0:06:10  0:03:20  0:02:50 1136k\n",
      " 54  184M   54  101M    0     0   514k      0  0:06:07  0:03:21  0:02:46 1154k\n",
      " 55  184M   55  102M    0     0   517k      0  0:06:05  0:03:22  0:02:43 1154k\n",
      " 56  184M   56  103M    0     0   520k      0  0:06:03  0:03:23  0:02:40 1155k\n",
      " 56  184M   56  104M    0     0   523k      0  0:06:01  0:03:24  0:02:37 1155k\n",
      " 57  184M   57  105M    0     0   526k      0  0:05:58  0:03:25  0:02:33 1155k\n",
      " 57  184M   57  106M    0     0   528k      0  0:05:57  0:03:26  0:02:31 1113k\n",
      " 58  184M   58  107M    0     0   531k      0  0:05:55  0:03:27  0:02:28 1114k\n",
      " 58  184M   58  108M    0     0   534k      0  0:05:53  0:03:28  0:02:25 1113k\n",
      " 59  184M   59  110M    0     0   537k      0  0:05:51  0:03:29  0:02:22 1113k\n",
      " 60  184M   60  111M    0     0   540k      0  0:05:49  0:03:30  0:02:19 1110k\n",
      " 60  184M   60  112M    0     0   543k      0  0:05:47  0:03:31  0:02:16 1152k\n",
      " 61  184M   61  113M    0     0   546k      0  0:05:46  0:03:32  0:02:14 1152k\n",
      " 62  184M   62  114M    0     0   549k      0  0:05:44  0:03:33  0:02:11 1152k\n",
      " 62  184M   62  115M    0     0   552k      0  0:05:42  0:03:34  0:02:08 1155k\n",
      " 63  184M   63  116M    0     0   554k      0  0:05:40  0:03:35  0:02:05 1155k\n",
      " 63  184M   63  117M    0     0   556k      0  0:05:39  0:03:36  0:02:03 1113k\n",
      " 64  184M   64  118M    0     0   559k      0  0:05:38  0:03:37  0:02:01 1113k\n",
      " 64  184M   64  119M    0     0   562k      0  0:05:36  0:03:38  0:01:58 1113k\n",
      " 65  184M   65  121M    0     0   564k      0  0:05:34  0:03:39  0:01:55 1110k\n",
      " 66  184M   66  122M    0     0   567k      0  0:05:33  0:03:40  0:01:53 1113k\n",
      " 66  184M   66  123M    0     0   570k      0  0:05:31  0:03:41  0:01:50 1155k\n",
      " 67  184M   67  124M    0     0   572k      0  0:05:30  0:03:42  0:01:48 1155k\n",
      " 68  184M   68  125M    0     0   575k      0  0:05:28  0:03:43  0:01:45 1155k\n",
      " 68  184M   68  126M    0     0   577k      0  0:05:27  0:03:44  0:01:43 1154k\n",
      " 69  184M   69  127M    0     0   580k      0  0:05:25  0:03:45  0:01:40 1155k\n",
      " 69  184M   69  128M    0     0   582k      0  0:05:24  0:03:46  0:01:38 1123k\n",
      " 70  184M   70  129M    0     0   584k      0  0:05:23  0:03:47  0:01:36 1113k\n",
      " 70  184M   70  131M    0     0   587k      0  0:05:22  0:03:48  0:01:34 1114k\n",
      " 71  184M   71  132M    0     0   589k      0  0:05:20  0:03:49  0:01:31 1110k\n",
      " 72  184M   72  133M    0     0   592k      0  0:05:19  0:03:50  0:01:29 1107k\n",
      " 72  184M   72  134M    0     0   594k      0  0:05:18  0:03:51  0:01:27 1142k\n",
      " 73  184M   73  135M    0     0   596k      0  0:05:16  0:03:52  0:01:24 1152k\n",
      " 74  184M   74  136M    0     0   599k      0  0:05:15  0:03:53  0:01:22 1152k\n",
      " 74  184M   74  137M    0     0   601k      0  0:05:14  0:03:54  0:01:20 1155k\n",
      " 75  184M   75  138M    0     0   603k      0  0:05:13  0:03:55  0:01:18 1155k\n",
      " 75  184M   75  140M    0     0   606k      0  0:05:11  0:03:56  0:01:15 1155k\n",
      " 76  184M   76  140M    0     0   607k      0  0:05:11  0:03:57  0:01:14 1113k\n",
      " 76  184M   76  142M    0     0   610k      0  0:05:09  0:03:58  0:01:11 1113k\n",
      " 77  184M   77  143M    0     0   612k      0  0:05:08  0:03:59  0:01:09 1113k\n",
      " 78  184M   78  144M    0     0   614k      0  0:05:07  0:04:00  0:01:07 1116k\n",
      " 78  184M   78  145M    0     0   616k      0  0:05:06  0:04:01  0:01:05 1113k\n",
      " 79  184M   79  146M    0     0   619k      0  0:05:05  0:04:02  0:01:03 1155k\n",
      " 80  184M   80  147M    0     0   621k      0  0:05:04  0:04:03  0:01:01 1155k\n",
      " 80  184M   80  148M    0     0   623k      0  0:05:03  0:04:04  0:00:59 1154k\n",
      " 81  184M   81  150M    0     0   625k      0  0:05:02  0:04:05  0:00:57 1155k\n",
      " 81  184M   81  151M    0     0   627k      0  0:05:01  0:04:06  0:00:55 1155k\n",
      " 82  184M   82  152M    0     0   629k      0  0:05:00  0:04:07  0:00:53 1113k\n",
      " 82  184M   82  153M    0     0   631k      0  0:04:59  0:04:08  0:00:51 1113k\n",
      " 83  184M   83  154M    0     0   633k      0  0:04:58  0:04:09  0:00:49 1113k\n",
      " 84  184M   84  155M    0     0   635k      0  0:04:57  0:04:10  0:00:47 1113k\n",
      " 84  184M   84  156M    0     0   637k      0  0:04:56  0:04:11  0:00:45 1113k\n",
      " 85  184M   85  157M    0     0   639k      0  0:04:55  0:04:12  0:00:43 1155k\n",
      " 86  184M   86  158M    0     0   641k      0  0:04:54  0:04:13  0:00:41 1154k\n",
      " 86  184M   86  159M    0     0   643k      0  0:04:53  0:04:14  0:00:39 1155k\n",
      " 87  184M   87  161M    0     0   645k      0  0:04:52  0:04:15  0:00:37 1155k\n",
      " 87  184M   87  162M    0     0   647k      0  0:04:52  0:04:16  0:00:36 1155k\n",
      " 88  184M   88  163M    0     0   648k      0  0:04:51  0:04:17  0:00:34 1113k\n",
      " 88  184M   88  164M    0     0   650k      0  0:04:50  0:04:18  0:00:32 1113k\n",
      " 89  184M   89  165M    0     0   652k      0  0:04:49  0:04:19  0:00:30 1113k\n",
      " 90  184M   90  166M    0     0   654k      0  0:04:48  0:04:20  0:00:28 1113k\n",
      " 90  184M   90  167M    0     0   656k      0  0:04:48  0:04:21  0:00:27 1113k\n",
      " 91  184M   91  168M    0     0   658k      0  0:04:47  0:04:22  0:00:25 1155k\n",
      " 92  184M   92  169M    0     0   660k      0  0:04:46  0:04:23  0:00:23 1155k\n",
      " 92  184M   92  171M    0     0   662k      0  0:04:45  0:04:24  0:00:21 1155k\n",
      " 93  184M   93  172M    0     0   663k      0  0:04:44  0:04:25  0:00:19 1154k\n",
      " 93  184M   93  173M    0     0   665k      0  0:04:44  0:04:26  0:00:18 1154k\n",
      " 94  184M   94  174M    0     0   667k      0  0:04:43  0:04:27  0:00:16 1151k\n",
      " 94  184M   94  175M    0     0   668k      0  0:04:42  0:04:28  0:00:14 1113k\n",
      " 95  184M   95  176M    0     0   670k      0  0:04:42  0:04:29  0:00:13 1113k\n",
      " 96  184M   96  177M    0     0   672k      0  0:04:41  0:04:30  0:00:11 1110k\n",
      " 96  184M   96  178M    0     0   673k      0  0:04:40  0:04:31  0:00:09 1110k\n",
      " 97  184M   97  179M    0     0   675k      0  0:04:39  0:04:32  0:00:07 1117k\n",
      " 98  184M   98  180M    0     0   677k      0  0:04:39  0:04:33  0:00:06 1154k\n",
      " 98  184M   98  182M    0     0   679k      0  0:04:38  0:04:34  0:00:04 1155k\n",
      " 99  184M   99  183M    0     0   680k      0  0:04:37  0:04:35  0:00:02 1154k\n",
      " 99  184M   99  184M    0     0   682k      0  0:04:37  0:04:36  0:00:01 1154k\n",
      "100  184M  100  184M    0     0   683k      0  0:04:36  0:04:36 --:--:-- 1153k\n"
     ]
    }
   ],
   "source": [
    "!curl -o alfabeto_A-Z.zip https://iaexpert.academy/arquivos/alfabeto_A-Z.zip"
   ]
  },
  {
   "cell_type": "code",
   "execution_count": 15,
   "metadata": {},
   "outputs": [],
   "source": [
    "zip_object = zipfile.ZipFile(file='alfabeto_A-Z.zip', mode = 'r')\n",
    "zip_object.extractall('./')\n",
    "zip_object.close()"
   ]
  },
  {
   "cell_type": "code",
   "execution_count": 16,
   "metadata": {},
   "outputs": [],
   "source": [
    "dataset_az = pd.read_csv('A_Z Handwritten Data.csv').astype('float32')"
   ]
  },
  {
   "cell_type": "code",
   "execution_count": 17,
   "metadata": {},
   "outputs": [
    {
     "data": {
      "text/html": [
       "<div>\n",
       "<style scoped>\n",
       "    .dataframe tbody tr th:only-of-type {\n",
       "        vertical-align: middle;\n",
       "    }\n",
       "\n",
       "    .dataframe tbody tr th {\n",
       "        vertical-align: top;\n",
       "    }\n",
       "\n",
       "    .dataframe thead th {\n",
       "        text-align: right;\n",
       "    }\n",
       "</style>\n",
       "<table border=\"1\" class=\"dataframe\">\n",
       "  <thead>\n",
       "    <tr style=\"text-align: right;\">\n",
       "      <th></th>\n",
       "      <th>0</th>\n",
       "      <th>0.1</th>\n",
       "      <th>0.2</th>\n",
       "      <th>0.3</th>\n",
       "      <th>0.4</th>\n",
       "      <th>0.5</th>\n",
       "      <th>0.6</th>\n",
       "      <th>0.7</th>\n",
       "      <th>0.8</th>\n",
       "      <th>0.9</th>\n",
       "      <th>...</th>\n",
       "      <th>0.639</th>\n",
       "      <th>0.640</th>\n",
       "      <th>0.641</th>\n",
       "      <th>0.642</th>\n",
       "      <th>0.643</th>\n",
       "      <th>0.644</th>\n",
       "      <th>0.645</th>\n",
       "      <th>0.646</th>\n",
       "      <th>0.647</th>\n",
       "      <th>0.648</th>\n",
       "    </tr>\n",
       "  </thead>\n",
       "  <tbody>\n",
       "    <tr>\n",
       "      <th>0</th>\n",
       "      <td>0.0</td>\n",
       "      <td>0.0</td>\n",
       "      <td>0.0</td>\n",
       "      <td>0.0</td>\n",
       "      <td>0.0</td>\n",
       "      <td>0.0</td>\n",
       "      <td>0.0</td>\n",
       "      <td>0.0</td>\n",
       "      <td>0.0</td>\n",
       "      <td>0.0</td>\n",
       "      <td>...</td>\n",
       "      <td>0.0</td>\n",
       "      <td>0.0</td>\n",
       "      <td>0.0</td>\n",
       "      <td>0.0</td>\n",
       "      <td>0.0</td>\n",
       "      <td>0.0</td>\n",
       "      <td>0.0</td>\n",
       "      <td>0.0</td>\n",
       "      <td>0.0</td>\n",
       "      <td>0.0</td>\n",
       "    </tr>\n",
       "    <tr>\n",
       "      <th>1</th>\n",
       "      <td>0.0</td>\n",
       "      <td>0.0</td>\n",
       "      <td>0.0</td>\n",
       "      <td>0.0</td>\n",
       "      <td>0.0</td>\n",
       "      <td>0.0</td>\n",
       "      <td>0.0</td>\n",
       "      <td>0.0</td>\n",
       "      <td>0.0</td>\n",
       "      <td>0.0</td>\n",
       "      <td>...</td>\n",
       "      <td>0.0</td>\n",
       "      <td>0.0</td>\n",
       "      <td>0.0</td>\n",
       "      <td>0.0</td>\n",
       "      <td>0.0</td>\n",
       "      <td>0.0</td>\n",
       "      <td>0.0</td>\n",
       "      <td>0.0</td>\n",
       "      <td>0.0</td>\n",
       "      <td>0.0</td>\n",
       "    </tr>\n",
       "    <tr>\n",
       "      <th>2</th>\n",
       "      <td>0.0</td>\n",
       "      <td>0.0</td>\n",
       "      <td>0.0</td>\n",
       "      <td>0.0</td>\n",
       "      <td>0.0</td>\n",
       "      <td>0.0</td>\n",
       "      <td>0.0</td>\n",
       "      <td>0.0</td>\n",
       "      <td>0.0</td>\n",
       "      <td>0.0</td>\n",
       "      <td>...</td>\n",
       "      <td>0.0</td>\n",
       "      <td>0.0</td>\n",
       "      <td>0.0</td>\n",
       "      <td>0.0</td>\n",
       "      <td>0.0</td>\n",
       "      <td>0.0</td>\n",
       "      <td>0.0</td>\n",
       "      <td>0.0</td>\n",
       "      <td>0.0</td>\n",
       "      <td>0.0</td>\n",
       "    </tr>\n",
       "    <tr>\n",
       "      <th>3</th>\n",
       "      <td>0.0</td>\n",
       "      <td>0.0</td>\n",
       "      <td>0.0</td>\n",
       "      <td>0.0</td>\n",
       "      <td>0.0</td>\n",
       "      <td>0.0</td>\n",
       "      <td>0.0</td>\n",
       "      <td>0.0</td>\n",
       "      <td>0.0</td>\n",
       "      <td>0.0</td>\n",
       "      <td>...</td>\n",
       "      <td>0.0</td>\n",
       "      <td>0.0</td>\n",
       "      <td>0.0</td>\n",
       "      <td>0.0</td>\n",
       "      <td>0.0</td>\n",
       "      <td>0.0</td>\n",
       "      <td>0.0</td>\n",
       "      <td>0.0</td>\n",
       "      <td>0.0</td>\n",
       "      <td>0.0</td>\n",
       "    </tr>\n",
       "    <tr>\n",
       "      <th>4</th>\n",
       "      <td>0.0</td>\n",
       "      <td>0.0</td>\n",
       "      <td>0.0</td>\n",
       "      <td>0.0</td>\n",
       "      <td>0.0</td>\n",
       "      <td>0.0</td>\n",
       "      <td>0.0</td>\n",
       "      <td>0.0</td>\n",
       "      <td>0.0</td>\n",
       "      <td>0.0</td>\n",
       "      <td>...</td>\n",
       "      <td>0.0</td>\n",
       "      <td>0.0</td>\n",
       "      <td>0.0</td>\n",
       "      <td>0.0</td>\n",
       "      <td>0.0</td>\n",
       "      <td>0.0</td>\n",
       "      <td>0.0</td>\n",
       "      <td>0.0</td>\n",
       "      <td>0.0</td>\n",
       "      <td>0.0</td>\n",
       "    </tr>\n",
       "    <tr>\n",
       "      <th>...</th>\n",
       "      <td>...</td>\n",
       "      <td>...</td>\n",
       "      <td>...</td>\n",
       "      <td>...</td>\n",
       "      <td>...</td>\n",
       "      <td>...</td>\n",
       "      <td>...</td>\n",
       "      <td>...</td>\n",
       "      <td>...</td>\n",
       "      <td>...</td>\n",
       "      <td>...</td>\n",
       "      <td>...</td>\n",
       "      <td>...</td>\n",
       "      <td>...</td>\n",
       "      <td>...</td>\n",
       "      <td>...</td>\n",
       "      <td>...</td>\n",
       "      <td>...</td>\n",
       "      <td>...</td>\n",
       "      <td>...</td>\n",
       "      <td>...</td>\n",
       "    </tr>\n",
       "    <tr>\n",
       "      <th>372445</th>\n",
       "      <td>25.0</td>\n",
       "      <td>0.0</td>\n",
       "      <td>0.0</td>\n",
       "      <td>0.0</td>\n",
       "      <td>0.0</td>\n",
       "      <td>0.0</td>\n",
       "      <td>0.0</td>\n",
       "      <td>0.0</td>\n",
       "      <td>0.0</td>\n",
       "      <td>0.0</td>\n",
       "      <td>...</td>\n",
       "      <td>0.0</td>\n",
       "      <td>0.0</td>\n",
       "      <td>0.0</td>\n",
       "      <td>0.0</td>\n",
       "      <td>0.0</td>\n",
       "      <td>0.0</td>\n",
       "      <td>0.0</td>\n",
       "      <td>0.0</td>\n",
       "      <td>0.0</td>\n",
       "      <td>0.0</td>\n",
       "    </tr>\n",
       "    <tr>\n",
       "      <th>372446</th>\n",
       "      <td>25.0</td>\n",
       "      <td>0.0</td>\n",
       "      <td>0.0</td>\n",
       "      <td>0.0</td>\n",
       "      <td>0.0</td>\n",
       "      <td>0.0</td>\n",
       "      <td>0.0</td>\n",
       "      <td>0.0</td>\n",
       "      <td>0.0</td>\n",
       "      <td>0.0</td>\n",
       "      <td>...</td>\n",
       "      <td>0.0</td>\n",
       "      <td>0.0</td>\n",
       "      <td>0.0</td>\n",
       "      <td>0.0</td>\n",
       "      <td>0.0</td>\n",
       "      <td>0.0</td>\n",
       "      <td>0.0</td>\n",
       "      <td>0.0</td>\n",
       "      <td>0.0</td>\n",
       "      <td>0.0</td>\n",
       "    </tr>\n",
       "    <tr>\n",
       "      <th>372447</th>\n",
       "      <td>25.0</td>\n",
       "      <td>0.0</td>\n",
       "      <td>0.0</td>\n",
       "      <td>0.0</td>\n",
       "      <td>0.0</td>\n",
       "      <td>0.0</td>\n",
       "      <td>0.0</td>\n",
       "      <td>0.0</td>\n",
       "      <td>0.0</td>\n",
       "      <td>0.0</td>\n",
       "      <td>...</td>\n",
       "      <td>0.0</td>\n",
       "      <td>0.0</td>\n",
       "      <td>0.0</td>\n",
       "      <td>0.0</td>\n",
       "      <td>0.0</td>\n",
       "      <td>0.0</td>\n",
       "      <td>0.0</td>\n",
       "      <td>0.0</td>\n",
       "      <td>0.0</td>\n",
       "      <td>0.0</td>\n",
       "    </tr>\n",
       "    <tr>\n",
       "      <th>372448</th>\n",
       "      <td>25.0</td>\n",
       "      <td>0.0</td>\n",
       "      <td>0.0</td>\n",
       "      <td>0.0</td>\n",
       "      <td>0.0</td>\n",
       "      <td>0.0</td>\n",
       "      <td>0.0</td>\n",
       "      <td>0.0</td>\n",
       "      <td>0.0</td>\n",
       "      <td>0.0</td>\n",
       "      <td>...</td>\n",
       "      <td>0.0</td>\n",
       "      <td>0.0</td>\n",
       "      <td>0.0</td>\n",
       "      <td>0.0</td>\n",
       "      <td>0.0</td>\n",
       "      <td>0.0</td>\n",
       "      <td>0.0</td>\n",
       "      <td>0.0</td>\n",
       "      <td>0.0</td>\n",
       "      <td>0.0</td>\n",
       "    </tr>\n",
       "    <tr>\n",
       "      <th>372449</th>\n",
       "      <td>25.0</td>\n",
       "      <td>0.0</td>\n",
       "      <td>0.0</td>\n",
       "      <td>0.0</td>\n",
       "      <td>0.0</td>\n",
       "      <td>0.0</td>\n",
       "      <td>0.0</td>\n",
       "      <td>0.0</td>\n",
       "      <td>0.0</td>\n",
       "      <td>0.0</td>\n",
       "      <td>...</td>\n",
       "      <td>0.0</td>\n",
       "      <td>0.0</td>\n",
       "      <td>0.0</td>\n",
       "      <td>0.0</td>\n",
       "      <td>0.0</td>\n",
       "      <td>0.0</td>\n",
       "      <td>0.0</td>\n",
       "      <td>0.0</td>\n",
       "      <td>0.0</td>\n",
       "      <td>0.0</td>\n",
       "    </tr>\n",
       "  </tbody>\n",
       "</table>\n",
       "<p>372450 rows × 785 columns</p>\n",
       "</div>"
      ],
      "text/plain": [
       "           0  0.1  0.2  0.3  0.4  0.5  0.6  0.7  0.8  0.9  ...  0.639  0.640  \\\n",
       "0        0.0  0.0  0.0  0.0  0.0  0.0  0.0  0.0  0.0  0.0  ...    0.0    0.0   \n",
       "1        0.0  0.0  0.0  0.0  0.0  0.0  0.0  0.0  0.0  0.0  ...    0.0    0.0   \n",
       "2        0.0  0.0  0.0  0.0  0.0  0.0  0.0  0.0  0.0  0.0  ...    0.0    0.0   \n",
       "3        0.0  0.0  0.0  0.0  0.0  0.0  0.0  0.0  0.0  0.0  ...    0.0    0.0   \n",
       "4        0.0  0.0  0.0  0.0  0.0  0.0  0.0  0.0  0.0  0.0  ...    0.0    0.0   \n",
       "...      ...  ...  ...  ...  ...  ...  ...  ...  ...  ...  ...    ...    ...   \n",
       "372445  25.0  0.0  0.0  0.0  0.0  0.0  0.0  0.0  0.0  0.0  ...    0.0    0.0   \n",
       "372446  25.0  0.0  0.0  0.0  0.0  0.0  0.0  0.0  0.0  0.0  ...    0.0    0.0   \n",
       "372447  25.0  0.0  0.0  0.0  0.0  0.0  0.0  0.0  0.0  0.0  ...    0.0    0.0   \n",
       "372448  25.0  0.0  0.0  0.0  0.0  0.0  0.0  0.0  0.0  0.0  ...    0.0    0.0   \n",
       "372449  25.0  0.0  0.0  0.0  0.0  0.0  0.0  0.0  0.0  0.0  ...    0.0    0.0   \n",
       "\n",
       "        0.641  0.642  0.643  0.644  0.645  0.646  0.647  0.648  \n",
       "0         0.0    0.0    0.0    0.0    0.0    0.0    0.0    0.0  \n",
       "1         0.0    0.0    0.0    0.0    0.0    0.0    0.0    0.0  \n",
       "2         0.0    0.0    0.0    0.0    0.0    0.0    0.0    0.0  \n",
       "3         0.0    0.0    0.0    0.0    0.0    0.0    0.0    0.0  \n",
       "4         0.0    0.0    0.0    0.0    0.0    0.0    0.0    0.0  \n",
       "...       ...    ...    ...    ...    ...    ...    ...    ...  \n",
       "372445    0.0    0.0    0.0    0.0    0.0    0.0    0.0    0.0  \n",
       "372446    0.0    0.0    0.0    0.0    0.0    0.0    0.0    0.0  \n",
       "372447    0.0    0.0    0.0    0.0    0.0    0.0    0.0    0.0  \n",
       "372448    0.0    0.0    0.0    0.0    0.0    0.0    0.0    0.0  \n",
       "372449    0.0    0.0    0.0    0.0    0.0    0.0    0.0    0.0  \n",
       "\n",
       "[372450 rows x 785 columns]"
      ]
     },
     "execution_count": 17,
     "metadata": {},
     "output_type": "execute_result"
    }
   ],
   "source": [
    "dataset_az"
   ]
  },
  {
   "cell_type": "code",
   "execution_count": 18,
   "metadata": {},
   "outputs": [],
   "source": [
    "alfabeto_data = dataset_az.drop('0', axis=1)"
   ]
  },
  {
   "cell_type": "code",
   "execution_count": 19,
   "metadata": {},
   "outputs": [
    {
     "name": "stdout",
     "output_type": "stream",
     "text": [
      "(372450, 784) (372450,)\n"
     ]
    }
   ],
   "source": [
    "alfabeto_labels = dataset_az['0']\n",
    "print(alfabeto_data.shape, alfabeto_labels.shape)"
   ]
  },
  {
   "cell_type": "code",
   "execution_count": 20,
   "metadata": {},
   "outputs": [],
   "source": [
    "alfabeto_data = np.reshape(alfabeto_data.values, (alfabeto_data.shape[0], 28, 28))"
   ]
  },
  {
   "cell_type": "code",
   "execution_count": 21,
   "metadata": {},
   "outputs": [
    {
     "data": {
      "image/png": "[encoded data removed]",
      "text/plain": [
       "<Figure size 640x480 with 1 Axes>"
      ]
     },
     "metadata": {},
     "output_type": "display_data"
    }
   ],
   "source": [
    "indice = np.random.randint(0, alfabeto_data.shape[0])\n",
    "plt.imshow(alfabeto_data[indice], cmap='gray')\n",
    "plt.title('Classe' + str(alfabeto_labels[indice]));"
   ]
  },
  {
   "cell_type": "code",
   "execution_count": 22,
   "metadata": {},
   "outputs": [
    {
     "data": {
      "image/png": "[encoded data removed]",
      "text/plain": [
       "<Figure size 640x480 with 1 Axes>"
      ]
     },
     "metadata": {},
     "output_type": "display_data"
    }
   ],
   "source": [
    "sns.countplot(x=alfabeto_labels);"
   ]
  },
  {
   "cell_type": "markdown",
   "metadata": {},
   "source": [
    "# merging datasets"
   ]
  },
  {
   "cell_type": "code",
   "execution_count": 23,
   "metadata": {},
   "outputs": [
    {
     "data": {
      "text/plain": [
       "(array([5, 0, 4, ..., 4, 5, 6], dtype=uint8),\n",
       " array([0, 1, 2, 3, 4, 5, 6, 7, 8, 9], dtype=uint8))"
      ]
     },
     "execution_count": 23,
     "metadata": {},
     "output_type": "execute_result"
    }
   ],
   "source": [
    "digitos_label, np.unique(digitos_label)"
   ]
  },
  {
   "cell_type": "code",
   "execution_count": 24,
   "metadata": {},
   "outputs": [
    {
     "data": {
      "text/plain": [
       "(0          0.0\n",
       " 1          0.0\n",
       " 2          0.0\n",
       " 3          0.0\n",
       " 4          0.0\n",
       "           ... \n",
       " 372445    25.0\n",
       " 372446    25.0\n",
       " 372447    25.0\n",
       " 372448    25.0\n",
       " 372449    25.0\n",
       " Name: 0, Length: 372450, dtype: float32,\n",
       " array([ 0.,  1.,  2.,  3.,  4.,  5.,  6.,  7.,  8.,  9., 10., 11., 12.,\n",
       "        13., 14., 15., 16., 17., 18., 19., 20., 21., 22., 23., 24., 25.],\n",
       "       dtype=float32))"
      ]
     },
     "execution_count": 24,
     "metadata": {},
     "output_type": "execute_result"
    }
   ],
   "source": [
    "alfabeto_labels, np.unique(alfabeto_labels)"
   ]
  },
  {
   "cell_type": "code",
   "execution_count": 25,
   "metadata": {},
   "outputs": [],
   "source": [
    "alfabeto_labels += 10"
   ]
  },
  {
   "cell_type": "code",
   "execution_count": 26,
   "metadata": {},
   "outputs": [
    {
     "data": {
      "text/plain": [
       "(0         10.0\n",
       " 1         10.0\n",
       " 2         10.0\n",
       " 3         10.0\n",
       " 4         10.0\n",
       "           ... \n",
       " 372445    35.0\n",
       " 372446    35.0\n",
       " 372447    35.0\n",
       " 372448    35.0\n",
       " 372449    35.0\n",
       " Name: 0, Length: 372450, dtype: float32,\n",
       " array([10., 11., 12., 13., 14., 15., 16., 17., 18., 19., 20., 21., 22.,\n",
       "        23., 24., 25., 26., 27., 28., 29., 30., 31., 32., 33., 34., 35.],\n",
       "       dtype=float32))"
      ]
     },
     "execution_count": 26,
     "metadata": {},
     "output_type": "execute_result"
    }
   ],
   "source": [
    "alfabeto_labels, np.unique(alfabeto_labels)"
   ]
  },
  {
   "cell_type": "code",
   "execution_count": 27,
   "metadata": {},
   "outputs": [],
   "source": [
    "data = np.vstack([alfabeto_data, digitos_data])\n",
    "labels = np.hstack([alfabeto_labels, digitos_label])"
   ]
  },
  {
   "cell_type": "code",
   "execution_count": 28,
   "metadata": {},
   "outputs": [
    {
     "data": {
      "text/plain": [
       "array([ 0.,  1.,  2.,  3.,  4.,  5.,  6.,  7.,  8.,  9., 10., 11., 12.,\n",
       "       13., 14., 15., 16., 17., 18., 19., 20., 21., 22., 23., 24., 25.,\n",
       "       26., 27., 28., 29., 30., 31., 32., 33., 34., 35.], dtype=float32)"
      ]
     },
     "execution_count": 28,
     "metadata": {},
     "output_type": "execute_result"
    }
   ],
   "source": [
    "np.unique(labels)"
   ]
  },
  {
   "cell_type": "code",
   "execution_count": 29,
   "metadata": {},
   "outputs": [
    {
     "data": {
      "text/plain": [
       "((442450, 28, 28), (442450,))"
      ]
     },
     "execution_count": 29,
     "metadata": {},
     "output_type": "execute_result"
    }
   ],
   "source": [
    "data.shape, labels.shape"
   ]
  },
  {
   "cell_type": "code",
   "execution_count": 30,
   "metadata": {},
   "outputs": [
    {
     "data": {
      "text/plain": [
       "(442450, 28, 28)"
      ]
     },
     "execution_count": 30,
     "metadata": {},
     "output_type": "execute_result"
    }
   ],
   "source": [
    "data = np.array(data, dtype='float32')\n",
    "data.shape"
   ]
  },
  {
   "cell_type": "code",
   "execution_count": 31,
   "metadata": {},
   "outputs": [
    {
     "data": {
      "text/plain": [
       "(442450, 28, 28, 1)"
      ]
     },
     "execution_count": 31,
     "metadata": {},
     "output_type": "execute_result"
    }
   ],
   "source": [
    "data = np.expand_dims(data, axis=-1)\n",
    "data.shape"
   ]
  },
  {
   "cell_type": "markdown",
   "metadata": {},
   "source": [
    "# Preprocessing images"
   ]
  },
  {
   "cell_type": "code",
   "execution_count": 32,
   "metadata": {},
   "outputs": [
    {
     "data": {
      "text/plain": [
       "(0.0, 255.0)"
      ]
     },
     "execution_count": 32,
     "metadata": {},
     "output_type": "execute_result"
    }
   ],
   "source": [
    "data[0].min(), data[0].max()"
   ]
  },
  {
   "cell_type": "code",
   "execution_count": 33,
   "metadata": {},
   "outputs": [],
   "source": [
    "data /= 255.0 #normalize"
   ]
  },
  {
   "cell_type": "markdown",
   "metadata": {},
   "source": [
    "#### onehot encoding"
   ]
  },
  {
   "cell_type": "code",
   "execution_count": 34,
   "metadata": {},
   "outputs": [
    {
     "data": {
      "text/plain": [
       "(0.0, 1.0)"
      ]
     },
     "execution_count": 34,
     "metadata": {},
     "output_type": "execute_result"
    }
   ],
   "source": [
    "data[0].min(), data[0].max()"
   ]
  },
  {
   "cell_type": "code",
   "execution_count": 35,
   "metadata": {},
   "outputs": [
    {
     "data": {
      "text/plain": [
       "array([0, 1])"
      ]
     },
     "execution_count": 35,
     "metadata": {},
     "output_type": "execute_result"
    }
   ],
   "source": [
    "le = LabelBinarizer()\n",
    "labels = le.fit_transform(labels)\n",
    "np.unique(labels)"
   ]
  },
  {
   "cell_type": "code",
   "execution_count": 36,
   "metadata": {},
   "outputs": [
    {
     "data": {
      "text/plain": [
       "array([[0, 0, 0, ..., 0, 0, 0],\n",
       "       [0, 0, 0, ..., 0, 0, 0],\n",
       "       [0, 0, 0, ..., 0, 0, 0],\n",
       "       ...,\n",
       "       [0, 0, 0, ..., 0, 0, 0],\n",
       "       [0, 0, 0, ..., 0, 0, 0],\n",
       "       [0, 0, 0, ..., 0, 0, 0]])"
      ]
     },
     "execution_count": 36,
     "metadata": {},
     "output_type": "execute_result"
    }
   ],
   "source": [
    "labels"
   ]
  },
  {
   "cell_type": "code",
   "execution_count": 37,
   "metadata": {},
   "outputs": [
    {
     "data": {
      "text/plain": [
       "array([ 6903,  7877,  6990,  7141,  6824,  6313,  6876,  7293,  6825,\n",
       "        6958, 13869,  8668, 23409, 10134, 11440,  1163,  5762,  7218,\n",
       "        1120,  8493,  5603, 11586, 12336, 19010, 57825, 19341,  5812,\n",
       "       11566, 48419, 22495, 29008,  4182, 10784,  6272, 10859,  6076])"
      ]
     },
     "execution_count": 37,
     "metadata": {},
     "output_type": "execute_result"
    }
   ],
   "source": [
    "total_class = labels.sum(axis=0)\n",
    "total_class"
   ]
  },
  {
   "cell_type": "code",
   "execution_count": 38,
   "metadata": {},
   "outputs": [
    {
     "data": {
      "text/plain": [
       "57825"
      ]
     },
     "execution_count": 38,
     "metadata": {},
     "output_type": "execute_result"
    }
   ],
   "source": [
    "total_class.max()"
   ]
  },
  {
   "cell_type": "code",
   "execution_count": 39,
   "metadata": {},
   "outputs": [
    {
     "data": {
      "text/plain": [
       "Text(0.5, 1.0, '[0 0 0 0 0 0 0 0 0 0 1 0 0 0 0 0 0 0 0 0 0 0 0 0 0 0 0 0 0 0 0 0 0 0 0 0]')"
      ]
     },
     "execution_count": 39,
     "metadata": {},
     "output_type": "execute_result"
    },
    {
     "data": {
      "image/png": "[encoded data removed]",
      "text/plain": [
       "<Figure size 640x480 with 1 Axes>"
      ]
     },
     "metadata": {},
     "output_type": "display_data"
    }
   ],
   "source": [
    "plt.imshow(data[0], cmap='gray')\n",
    "plt.title(str(labels[0])) "
   ]
  },
  {
   "cell_type": "code",
   "execution_count": 40,
   "metadata": {},
   "outputs": [],
   "source": [
    "classes_peso = {}\n",
    "for i in range(0, len(total_class)):\n",
    "    classes_peso[i] = total_class.max()/total_class[i]\n"
   ]
  },
  {
   "cell_type": "code",
   "execution_count": 41,
   "metadata": {},
   "outputs": [
    {
     "data": {
      "text/plain": [
       "{0: 8.376792698826597,\n",
       " 1: 7.340992763742541,\n",
       " 2: 8.272532188841202,\n",
       " 3: 8.097605377398123,\n",
       " 4: 8.473769050410317,\n",
       " 5: 9.15967052114684,\n",
       " 6: 8.409685863874346,\n",
       " 7: 7.928835870012341,\n",
       " 8: 8.472527472527473,\n",
       " 9: 8.310577752227651,\n",
       " 10: 4.169370538611291,\n",
       " 11: 6.671089063221043,\n",
       " 12: 2.4702037677816224,\n",
       " 13: 5.7060390763765545,\n",
       " 14: 5.0546328671328675,\n",
       " 15: 49.72055030094583,\n",
       " 16: 10.035577924331829,\n",
       " 17: 8.011221945137157,\n",
       " 18: 51.629464285714285,\n",
       " 19: 6.808548216178029,\n",
       " 20: 10.320364090665715,\n",
       " 21: 4.990937338166753,\n",
       " 22: 4.6875,\n",
       " 23: 3.0418200946870066,\n",
       " 24: 1.0,\n",
       " 25: 2.989762680316426,\n",
       " 26: 9.94924294562973,\n",
       " 27: 4.999567698426422,\n",
       " 28: 1.1942625828703608,\n",
       " 29: 2.5705712380529007,\n",
       " 30: 1.993415609487038,\n",
       " 31: 13.827116212338593,\n",
       " 32: 5.362110534124629,\n",
       " 33: 9.21954719387755,\n",
       " 34: 5.3250759738465785,\n",
       " 35: 9.51695194206715}"
      ]
     },
     "execution_count": 41,
     "metadata": {},
     "output_type": "execute_result"
    }
   ],
   "source": [
    "classes_peso"
   ]
  },
  {
   "cell_type": "code",
   "execution_count": 42,
   "metadata": {},
   "outputs": [],
   "source": [
    "X_train, X_test, y_train, y_test = train_test_split(data, labels, test_size=0.2, stratify=labels, random_state=1)"
   ]
  },
  {
   "cell_type": "code",
   "execution_count": 43,
   "metadata": {},
   "outputs": [
    {
     "data": {
      "text/plain": [
       "((353960, 28, 28, 1), (88490, 28, 28, 1))"
      ]
     },
     "execution_count": 43,
     "metadata": {},
     "output_type": "execute_result"
    }
   ],
   "source": [
    "X_train.shape, X_test.shape"
   ]
  },
  {
   "cell_type": "code",
   "execution_count": 44,
   "metadata": {},
   "outputs": [
    {
     "data": {
      "text/plain": [
       "((353960, 36), (88490, 36))"
      ]
     },
     "execution_count": 44,
     "metadata": {},
     "output_type": "execute_result"
    }
   ],
   "source": [
    "y_train.shape, y_test.shape"
   ]
  },
  {
   "cell_type": "code",
   "execution_count": 45,
   "metadata": {},
   "outputs": [],
   "source": [
    "from tensorflow.keras.preprocessing.image import ImageDataGenerator"
   ]
  },
  {
   "cell_type": "code",
   "execution_count": 46,
   "metadata": {},
   "outputs": [],
   "source": [
    "augmentation = ImageDataGenerator(rotation_range=10,\n",
    "                                  zoom_range=0.05,\n",
    "                                  width_shift_range=0.1,\n",
    "                                  height_shift_range=0.1,\n",
    "                                  horizontal_flip=False\n",
    "                                )"
   ]
  },
  {
   "cell_type": "markdown",
   "metadata": {},
   "source": [
    "# Neural net creation"
   ]
  },
  {
   "cell_type": "code",
   "execution_count": 47,
   "metadata": {},
   "outputs": [],
   "source": [
    "from tensorflow.keras.models import Sequential\n",
    "from tensorflow.keras.layers import Conv2D, MaxPool2D, Flatten, Dense\n",
    "from tensorflow.keras.callbacks import ModelCheckpoint"
   ]
  },
  {
   "cell_type": "code",
   "execution_count": 48,
   "metadata": {},
   "outputs": [],
   "source": [
    "rede_neural = Sequential()\n",
    "rede_neural.add(Conv2D(filters=32, kernel_size=(3,3), activation='relu', input_shape=(28,28,1)))\n",
    "rede_neural.add(MaxPool2D(pool_size=(2,2)))\n",
    "rede_neural.add(Conv2D(filters=64, kernel_size=(3,3), activation='relu', padding='same'))\n",
    "rede_neural.add(MaxPool2D(pool_size=(2,2)))\n",
    "rede_neural.add(Conv2D(filters=128, kernel_size=(3,3), activation='relu', padding='valid'))\n",
    "rede_neural.add(MaxPool2D(pool_size=(2,2)))\n",
    "rede_neural.add(Flatten())\n",
    "rede_neural.add(Dense(64, activation='relu'))\n",
    "rede_neural.add(Dense(128, activation='relu'))\n",
    "rede_neural.add(Dense(36, activation='softmax'))\n",
    "\n",
    "rede_neural.compile(loss='categorical_crossentropy', optimizer='adam', metrics=['accuracy'])"
   ]
  },
  {
   "cell_type": "code",
   "execution_count": 49,
   "metadata": {},
   "outputs": [
    {
     "name": "stdout",
     "output_type": "stream",
     "text": [
      "Model: \"sequential\"\n",
      "_________________________________________________________________\n",
      " Layer (type)                Output Shape              Param #   \n",
      "=================================================================\n",
      " conv2d (Conv2D)             (None, 26, 26, 32)        320       \n",
      "                                                                 \n",
      " max_pooling2d (MaxPooling2  (None, 13, 13, 32)        0         \n",
      " D)                                                              \n",
      "                                                                 \n",
      " conv2d_1 (Conv2D)           (None, 13, 13, 64)        18496     \n",
      "                                                                 \n",
      " max_pooling2d_1 (MaxPoolin  (None, 6, 6, 64)          0         \n",
      " g2D)                                                            \n",
      "                                                                 \n",
      " conv2d_2 (Conv2D)           (None, 4, 4, 128)         73856     \n",
      "                                                                 \n",
      " max_pooling2d_2 (MaxPoolin  (None, 2, 2, 128)         0         \n",
      " g2D)                                                            \n",
      "                                                                 \n",
      " flatten (Flatten)           (None, 512)               0         \n",
      "                                                                 \n",
      " dense (Dense)               (None, 64)                32832     \n",
      "                                                                 \n",
      " dense_1 (Dense)             (None, 128)               8320      \n",
      "                                                                 \n",
      " dense_2 (Dense)             (None, 36)                4644      \n",
      "                                                                 \n",
      "=================================================================\n",
      "Total params: 138468 (540.89 KB)\n",
      "Trainable params: 138468 (540.89 KB)\n",
      "Non-trainable params: 0 (0.00 Byte)\n",
      "_________________________________________________________________\n"
     ]
    }
   ],
   "source": [
    "rede_neural.summary()"
   ]
  },
  {
   "cell_type": "code",
   "execution_count": 50,
   "metadata": {},
   "outputs": [
    {
     "name": "stdout",
     "output_type": "stream",
     "text": [
      "['0', '1', '2', '3', '4', '5', '6', '7', '8', '9', 'A', 'B', 'C', 'D', 'E', 'F', 'G', 'H', 'I', 'J', 'K', 'L', 'M', 'N', 'O', 'P', 'Q', 'R', 'S', 'T', 'U', 'V', 'W', 'X', 'Y', 'Z']\n"
     ]
    }
   ],
   "source": [
    "nomes_labels = '0123456789'\n",
    "nomes_labels += 'ABCDEFGHIJKLMNOPQRSTUVWXYZ'\n",
    "nomes_labels = [l for l in nomes_labels]\n",
    "print(nomes_labels)"
   ]
  },
  {
   "cell_type": "markdown",
   "metadata": {},
   "source": [
    "# train"
   ]
  },
  {
   "cell_type": "code",
   "execution_count": 51,
   "metadata": {},
   "outputs": [],
   "source": [
    "import scipy"
   ]
  },
  {
   "cell_type": "code",
   "execution_count": 52,
   "metadata": {},
   "outputs": [],
   "source": [
    "arquivo_modelo = 'manuscrito.model'\n",
    "epochs = 100\n",
    "batch_size = 32"
   ]
  },
  {
   "cell_type": "code",
   "execution_count": 53,
   "metadata": {},
   "outputs": [],
   "source": [
    "checkpointer = ModelCheckpoint(arquivo_modelo, monitor='val_loss', verbose=1, save_best_only=True)"
   ]
  },
  {
   "cell_type": "code",
   "execution_count": 55,
   "metadata": {},
   "outputs": [
    {
     "name": "stdout",
     "output_type": "stream",
     "text": [
      "GPU Available: []\n",
      "GPU Device Name: \n"
     ]
    }
   ],
   "source": [
    "import tensorflow as tf\n",
    "\n",
    "# Check if GPU is available and enabled\n",
    "print(\"GPU Available:\", tf.config.list_physical_devices('GPU'))\n",
    "\n",
    "# Check which GPU is being used\n",
    "print(\"GPU Device Name:\", tf.test.gpu_device_name())\n"
   ]
  },
  {
   "cell_type": "code",
   "execution_count": 54,
   "metadata": {},
   "outputs": [
    {
     "name": "stdout",
     "output_type": "stream",
     "text": [
      "Epoch 1/100\n",
      "11061/11061 [==============================] - ETA: 0s - loss: 1.7231 - accuracy: 0.8530\n",
      "Epoch 1: val_loss improved from inf to 0.20211, saving model to manuscrito.model\n",
      "INFO:tensorflow:Assets written to: manuscrito.model\\assets\n"
     ]
    },
    {
     "name": "stderr",
     "output_type": "stream",
     "text": [
      "INFO:tensorflow:Assets written to: manuscrito.model\\assets\n"
     ]
    },
    {
     "name": "stdout",
     "output_type": "stream",
     "text": [
      "11061/11061 [==============================] - 193s 17ms/step - loss: 1.7231 - accuracy: 0.8530 - val_loss: 0.2021 - val_accuracy: 0.9340\n",
      "Epoch 2/100\n",
      "11059/11061 [============================>.] - ETA: 0s - loss: 0.8834 - accuracy: 0.9108\n",
      "Epoch 2: val_loss did not improve from 0.20211\n",
      "11061/11061 [==============================] - 208s 19ms/step - loss: 0.8834 - accuracy: 0.9108 - val_loss: 0.2618 - val_accuracy: 0.8936\n",
      "Epoch 3/100\n",
      "11060/11061 [============================>.] - ETA: 0s - loss: 0.7669 - accuracy: 0.9200\n",
      "Epoch 3: val_loss did not improve from 0.20211\n",
      "11061/11061 [==============================] - 201s 18ms/step - loss: 0.7669 - accuracy: 0.9200 - val_loss: 0.3966 - val_accuracy: 0.8300\n",
      "Epoch 4/100\n",
      "11058/11061 [============================>.] - ETA: 0s - loss: 0.7077 - accuracy: 0.9241\n",
      "Epoch 4: val_loss did not improve from 0.20211\n",
      "11061/11061 [==============================] - 194s 18ms/step - loss: 0.7077 - accuracy: 0.9241 - val_loss: 0.3102 - val_accuracy: 0.8671\n",
      "Epoch 5/100\n",
      "11059/11061 [============================>.] - ETA: 0s - loss: 0.6700 - accuracy: 0.9264\n",
      "Epoch 5: val_loss did not improve from 0.20211\n",
      "11061/11061 [==============================] - 183s 17ms/step - loss: 0.6700 - accuracy: 0.9264 - val_loss: 0.3338 - val_accuracy: 0.8516\n",
      "Epoch 6/100\n",
      "11058/11061 [============================>.] - ETA: 0s - loss: 0.6556 - accuracy: 0.9279\n",
      "Epoch 6: val_loss did not improve from 0.20211\n",
      "11061/11061 [==============================] - 194s 18ms/step - loss: 0.6555 - accuracy: 0.9279 - val_loss: 0.2451 - val_accuracy: 0.9007\n",
      "Epoch 7/100\n",
      "11058/11061 [============================>.] - ETA: 0s - loss: 0.6180 - accuracy: 0.9313\n",
      "Epoch 7: val_loss did not improve from 0.20211\n",
      "11061/11061 [==============================] - 187s 17ms/step - loss: 0.6179 - accuracy: 0.9313 - val_loss: 0.3057 - val_accuracy: 0.8573\n",
      "Epoch 8/100\n",
      "11059/11061 [============================>.] - ETA: 0s - loss: 0.6283 - accuracy: 0.9324\n",
      "Epoch 8: val_loss did not improve from 0.20211\n",
      "11061/11061 [==============================] - 195s 18ms/step - loss: 0.6282 - accuracy: 0.9324 - val_loss: 0.2272 - val_accuracy: 0.9061\n",
      "Epoch 9/100\n",
      "11060/11061 [============================>.] - ETA: 0s - loss: 0.6062 - accuracy: 0.9332\n",
      "Epoch 9: val_loss did not improve from 0.20211\n",
      "11061/11061 [==============================] - 197s 18ms/step - loss: 0.6063 - accuracy: 0.9332 - val_loss: 0.2798 - val_accuracy: 0.8687\n",
      "Epoch 10/100\n",
      "11058/11061 [============================>.] - ETA: 0s - loss: 0.6107 - accuracy: 0.9347\n",
      "Epoch 10: val_loss did not improve from 0.20211\n",
      "11061/11061 [==============================] - 190s 17ms/step - loss: 0.6107 - accuracy: 0.9347 - val_loss: 0.2245 - val_accuracy: 0.9117\n",
      "Epoch 11/100\n",
      "10643/11061 [===========================>..] - ETA: 7s - loss: 0.5955 - accuracy: 0.9349"
     ]
    },
    {
     "ename": "KeyboardInterrupt",
     "evalue": "",
     "output_type": "error",
     "traceback": [
      "\u001b[1;31m---------------------------------------------------------------------------\u001b[0m",
      "\u001b[1;31mKeyboardInterrupt\u001b[0m                         Traceback (most recent call last)",
      "Cell \u001b[1;32mIn[54], line 1\u001b[0m\n\u001b[1;32m----> 1\u001b[0m history \u001b[39m=\u001b[39m rede_neural\u001b[39m.\u001b[39;49mfit(augmentation\u001b[39m.\u001b[39;49mflow(X_train, y_train, batch_size\u001b[39m=\u001b[39;49mbatch_size),\n\u001b[0;32m      2\u001b[0m                                             validation_data \u001b[39m=\u001b[39;49m (X_test, y_test),\n\u001b[0;32m      3\u001b[0m                                             steps_per_epoch \u001b[39m=\u001b[39;49m \u001b[39mlen\u001b[39;49m(X_train) \u001b[39m/\u001b[39;49m\u001b[39m/\u001b[39;49m batch_size,\n\u001b[0;32m      4\u001b[0m                                             epochs \u001b[39m=\u001b[39;49m epochs,\n\u001b[0;32m      5\u001b[0m                                             class_weight \u001b[39m=\u001b[39;49m classes_peso,\n\u001b[0;32m      6\u001b[0m                                             verbose\u001b[39m=\u001b[39;49m\u001b[39m1\u001b[39;49m, callbacks\u001b[39m=\u001b[39;49m[checkpointer])\n",
      "File \u001b[1;32mc:\\Users\\macarneiro\\OneDrive - Stefanini\\Desktop\\courses_git\\OCR\\venv\\Lib\\site-packages\\keras\\src\\utils\\traceback_utils.py:65\u001b[0m, in \u001b[0;36mfilter_traceback.<locals>.error_handler\u001b[1;34m(*args, **kwargs)\u001b[0m\n\u001b[0;32m     63\u001b[0m filtered_tb \u001b[39m=\u001b[39m \u001b[39mNone\u001b[39;00m\n\u001b[0;32m     64\u001b[0m \u001b[39mtry\u001b[39;00m:\n\u001b[1;32m---> 65\u001b[0m     \u001b[39mreturn\u001b[39;00m fn(\u001b[39m*\u001b[39;49margs, \u001b[39m*\u001b[39;49m\u001b[39m*\u001b[39;49mkwargs)\n\u001b[0;32m     66\u001b[0m \u001b[39mexcept\u001b[39;00m \u001b[39mException\u001b[39;00m \u001b[39mas\u001b[39;00m e:\n\u001b[0;32m     67\u001b[0m     filtered_tb \u001b[39m=\u001b[39m _process_traceback_frames(e\u001b[39m.\u001b[39m__traceback__)\n",
      "File \u001b[1;32mc:\\Users\\macarneiro\\OneDrive - Stefanini\\Desktop\\courses_git\\OCR\\venv\\Lib\\site-packages\\keras\\src\\engine\\training.py:1742\u001b[0m, in \u001b[0;36mModel.fit\u001b[1;34m(self, x, y, batch_size, epochs, verbose, callbacks, validation_split, validation_data, shuffle, class_weight, sample_weight, initial_epoch, steps_per_epoch, validation_steps, validation_batch_size, validation_freq, max_queue_size, workers, use_multiprocessing)\u001b[0m\n\u001b[0;32m   1734\u001b[0m \u001b[39mwith\u001b[39;00m tf\u001b[39m.\u001b[39mprofiler\u001b[39m.\u001b[39mexperimental\u001b[39m.\u001b[39mTrace(\n\u001b[0;32m   1735\u001b[0m     \u001b[39m\"\u001b[39m\u001b[39mtrain\u001b[39m\u001b[39m\"\u001b[39m,\n\u001b[0;32m   1736\u001b[0m     epoch_num\u001b[39m=\u001b[39mepoch,\n\u001b[1;32m   (...)\u001b[0m\n\u001b[0;32m   1739\u001b[0m     _r\u001b[39m=\u001b[39m\u001b[39m1\u001b[39m,\n\u001b[0;32m   1740\u001b[0m ):\n\u001b[0;32m   1741\u001b[0m     callbacks\u001b[39m.\u001b[39mon_train_batch_begin(step)\n\u001b[1;32m-> 1742\u001b[0m     tmp_logs \u001b[39m=\u001b[39m \u001b[39mself\u001b[39;49m\u001b[39m.\u001b[39;49mtrain_function(iterator)\n\u001b[0;32m   1743\u001b[0m     \u001b[39mif\u001b[39;00m data_handler\u001b[39m.\u001b[39mshould_sync:\n\u001b[0;32m   1744\u001b[0m         context\u001b[39m.\u001b[39masync_wait()\n",
      "File \u001b[1;32mc:\\Users\\macarneiro\\OneDrive - Stefanini\\Desktop\\courses_git\\OCR\\venv\\Lib\\site-packages\\tensorflow\\python\\util\\traceback_utils.py:150\u001b[0m, in \u001b[0;36mfilter_traceback.<locals>.error_handler\u001b[1;34m(*args, **kwargs)\u001b[0m\n\u001b[0;32m    148\u001b[0m filtered_tb \u001b[39m=\u001b[39m \u001b[39mNone\u001b[39;00m\n\u001b[0;32m    149\u001b[0m \u001b[39mtry\u001b[39;00m:\n\u001b[1;32m--> 150\u001b[0m   \u001b[39mreturn\u001b[39;00m fn(\u001b[39m*\u001b[39;49margs, \u001b[39m*\u001b[39;49m\u001b[39m*\u001b[39;49mkwargs)\n\u001b[0;32m    151\u001b[0m \u001b[39mexcept\u001b[39;00m \u001b[39mException\u001b[39;00m \u001b[39mas\u001b[39;00m e:\n\u001b[0;32m    152\u001b[0m   filtered_tb \u001b[39m=\u001b[39m _process_traceback_frames(e\u001b[39m.\u001b[39m__traceback__)\n",
      "File \u001b[1;32mc:\\Users\\macarneiro\\OneDrive - Stefanini\\Desktop\\courses_git\\OCR\\venv\\Lib\\site-packages\\tensorflow\\python\\eager\\polymorphic_function\\polymorphic_function.py:825\u001b[0m, in \u001b[0;36mFunction.__call__\u001b[1;34m(self, *args, **kwds)\u001b[0m\n\u001b[0;32m    822\u001b[0m compiler \u001b[39m=\u001b[39m \u001b[39m\"\u001b[39m\u001b[39mxla\u001b[39m\u001b[39m\"\u001b[39m \u001b[39mif\u001b[39;00m \u001b[39mself\u001b[39m\u001b[39m.\u001b[39m_jit_compile \u001b[39melse\u001b[39;00m \u001b[39m\"\u001b[39m\u001b[39mnonXla\u001b[39m\u001b[39m\"\u001b[39m\n\u001b[0;32m    824\u001b[0m \u001b[39mwith\u001b[39;00m OptionalXlaContext(\u001b[39mself\u001b[39m\u001b[39m.\u001b[39m_jit_compile):\n\u001b[1;32m--> 825\u001b[0m   result \u001b[39m=\u001b[39m \u001b[39mself\u001b[39;49m\u001b[39m.\u001b[39;49m_call(\u001b[39m*\u001b[39;49margs, \u001b[39m*\u001b[39;49m\u001b[39m*\u001b[39;49mkwds)\n\u001b[0;32m    827\u001b[0m new_tracing_count \u001b[39m=\u001b[39m \u001b[39mself\u001b[39m\u001b[39m.\u001b[39mexperimental_get_tracing_count()\n\u001b[0;32m    828\u001b[0m without_tracing \u001b[39m=\u001b[39m (tracing_count \u001b[39m==\u001b[39m new_tracing_count)\n",
      "File \u001b[1;32mc:\\Users\\macarneiro\\OneDrive - Stefanini\\Desktop\\courses_git\\OCR\\venv\\Lib\\site-packages\\tensorflow\\python\\eager\\polymorphic_function\\polymorphic_function.py:857\u001b[0m, in \u001b[0;36mFunction._call\u001b[1;34m(self, *args, **kwds)\u001b[0m\n\u001b[0;32m    854\u001b[0m   \u001b[39mself\u001b[39m\u001b[39m.\u001b[39m_lock\u001b[39m.\u001b[39mrelease()\n\u001b[0;32m    855\u001b[0m   \u001b[39m# In this case we have created variables on the first call, so we run the\u001b[39;00m\n\u001b[0;32m    856\u001b[0m   \u001b[39m# defunned version which is guaranteed to never create variables.\u001b[39;00m\n\u001b[1;32m--> 857\u001b[0m   \u001b[39mreturn\u001b[39;00m \u001b[39mself\u001b[39;49m\u001b[39m.\u001b[39;49m_no_variable_creation_fn(\u001b[39m*\u001b[39;49margs, \u001b[39m*\u001b[39;49m\u001b[39m*\u001b[39;49mkwds)  \u001b[39m# pylint: disable=not-callable\u001b[39;00m\n\u001b[0;32m    858\u001b[0m \u001b[39melif\u001b[39;00m \u001b[39mself\u001b[39m\u001b[39m.\u001b[39m_variable_creation_fn \u001b[39mis\u001b[39;00m \u001b[39mnot\u001b[39;00m \u001b[39mNone\u001b[39;00m:\n\u001b[0;32m    859\u001b[0m   \u001b[39m# Release the lock early so that multiple threads can perform the call\u001b[39;00m\n\u001b[0;32m    860\u001b[0m   \u001b[39m# in parallel.\u001b[39;00m\n\u001b[0;32m    861\u001b[0m   \u001b[39mself\u001b[39m\u001b[39m.\u001b[39m_lock\u001b[39m.\u001b[39mrelease()\n",
      "File \u001b[1;32mc:\\Users\\macarneiro\\OneDrive - Stefanini\\Desktop\\courses_git\\OCR\\venv\\Lib\\site-packages\\tensorflow\\python\\eager\\polymorphic_function\\tracing_compiler.py:148\u001b[0m, in \u001b[0;36mTracingCompiler.__call__\u001b[1;34m(self, *args, **kwargs)\u001b[0m\n\u001b[0;32m    145\u001b[0m \u001b[39mwith\u001b[39;00m \u001b[39mself\u001b[39m\u001b[39m.\u001b[39m_lock:\n\u001b[0;32m    146\u001b[0m   (concrete_function,\n\u001b[0;32m    147\u001b[0m    filtered_flat_args) \u001b[39m=\u001b[39m \u001b[39mself\u001b[39m\u001b[39m.\u001b[39m_maybe_define_function(args, kwargs)\n\u001b[1;32m--> 148\u001b[0m \u001b[39mreturn\u001b[39;00m concrete_function\u001b[39m.\u001b[39;49m_call_flat(\n\u001b[0;32m    149\u001b[0m     filtered_flat_args, captured_inputs\u001b[39m=\u001b[39;49mconcrete_function\u001b[39m.\u001b[39;49mcaptured_inputs)\n",
      "File \u001b[1;32mc:\\Users\\macarneiro\\OneDrive - Stefanini\\Desktop\\courses_git\\OCR\\venv\\Lib\\site-packages\\tensorflow\\python\\eager\\polymorphic_function\\monomorphic_function.py:1349\u001b[0m, in \u001b[0;36mConcreteFunction._call_flat\u001b[1;34m(self, args, captured_inputs)\u001b[0m\n\u001b[0;32m   1345\u001b[0m possible_gradient_type \u001b[39m=\u001b[39m gradients_util\u001b[39m.\u001b[39mPossibleTapeGradientTypes(args)\n\u001b[0;32m   1346\u001b[0m \u001b[39mif\u001b[39;00m (possible_gradient_type \u001b[39m==\u001b[39m gradients_util\u001b[39m.\u001b[39mPOSSIBLE_GRADIENT_TYPES_NONE\n\u001b[0;32m   1347\u001b[0m     \u001b[39mand\u001b[39;00m executing_eagerly):\n\u001b[0;32m   1348\u001b[0m   \u001b[39m# No tape is watching; skip to running the function.\u001b[39;00m\n\u001b[1;32m-> 1349\u001b[0m   \u001b[39mreturn\u001b[39;00m \u001b[39mself\u001b[39m\u001b[39m.\u001b[39m_build_call_outputs(\u001b[39mself\u001b[39;49m\u001b[39m.\u001b[39;49m_inference_function(\u001b[39m*\u001b[39;49margs))\n\u001b[0;32m   1350\u001b[0m forward_backward \u001b[39m=\u001b[39m \u001b[39mself\u001b[39m\u001b[39m.\u001b[39m_select_forward_and_backward_functions(\n\u001b[0;32m   1351\u001b[0m     args,\n\u001b[0;32m   1352\u001b[0m     possible_gradient_type,\n\u001b[0;32m   1353\u001b[0m     executing_eagerly)\n\u001b[0;32m   1354\u001b[0m forward_function, args_with_tangents \u001b[39m=\u001b[39m forward_backward\u001b[39m.\u001b[39mforward()\n",
      "File \u001b[1;32mc:\\Users\\macarneiro\\OneDrive - Stefanini\\Desktop\\courses_git\\OCR\\venv\\Lib\\site-packages\\tensorflow\\python\\eager\\polymorphic_function\\atomic_function.py:196\u001b[0m, in \u001b[0;36mAtomicFunction.__call__\u001b[1;34m(self, *args)\u001b[0m\n\u001b[0;32m    194\u001b[0m \u001b[39mwith\u001b[39;00m record\u001b[39m.\u001b[39mstop_recording():\n\u001b[0;32m    195\u001b[0m   \u001b[39mif\u001b[39;00m \u001b[39mself\u001b[39m\u001b[39m.\u001b[39m_bound_context\u001b[39m.\u001b[39mexecuting_eagerly():\n\u001b[1;32m--> 196\u001b[0m     outputs \u001b[39m=\u001b[39m \u001b[39mself\u001b[39;49m\u001b[39m.\u001b[39;49m_bound_context\u001b[39m.\u001b[39;49mcall_function(\n\u001b[0;32m    197\u001b[0m         \u001b[39mself\u001b[39;49m\u001b[39m.\u001b[39;49mname,\n\u001b[0;32m    198\u001b[0m         \u001b[39mlist\u001b[39;49m(args),\n\u001b[0;32m    199\u001b[0m         \u001b[39mlen\u001b[39;49m(\u001b[39mself\u001b[39;49m\u001b[39m.\u001b[39;49mfunction_type\u001b[39m.\u001b[39;49mflat_outputs),\n\u001b[0;32m    200\u001b[0m     )\n\u001b[0;32m    201\u001b[0m   \u001b[39melse\u001b[39;00m:\n\u001b[0;32m    202\u001b[0m     outputs \u001b[39m=\u001b[39m make_call_op_in_graph(\u001b[39mself\u001b[39m, \u001b[39mlist\u001b[39m(args))\n",
      "File \u001b[1;32mc:\\Users\\macarneiro\\OneDrive - Stefanini\\Desktop\\courses_git\\OCR\\venv\\Lib\\site-packages\\tensorflow\\python\\eager\\context.py:1457\u001b[0m, in \u001b[0;36mContext.call_function\u001b[1;34m(self, name, tensor_inputs, num_outputs)\u001b[0m\n\u001b[0;32m   1455\u001b[0m cancellation_context \u001b[39m=\u001b[39m cancellation\u001b[39m.\u001b[39mcontext()\n\u001b[0;32m   1456\u001b[0m \u001b[39mif\u001b[39;00m cancellation_context \u001b[39mis\u001b[39;00m \u001b[39mNone\u001b[39;00m:\n\u001b[1;32m-> 1457\u001b[0m   outputs \u001b[39m=\u001b[39m execute\u001b[39m.\u001b[39;49mexecute(\n\u001b[0;32m   1458\u001b[0m       name\u001b[39m.\u001b[39;49mdecode(\u001b[39m\"\u001b[39;49m\u001b[39mutf-8\u001b[39;49m\u001b[39m\"\u001b[39;49m),\n\u001b[0;32m   1459\u001b[0m       num_outputs\u001b[39m=\u001b[39;49mnum_outputs,\n\u001b[0;32m   1460\u001b[0m       inputs\u001b[39m=\u001b[39;49mtensor_inputs,\n\u001b[0;32m   1461\u001b[0m       attrs\u001b[39m=\u001b[39;49mattrs,\n\u001b[0;32m   1462\u001b[0m       ctx\u001b[39m=\u001b[39;49m\u001b[39mself\u001b[39;49m,\n\u001b[0;32m   1463\u001b[0m   )\n\u001b[0;32m   1464\u001b[0m \u001b[39melse\u001b[39;00m:\n\u001b[0;32m   1465\u001b[0m   outputs \u001b[39m=\u001b[39m execute\u001b[39m.\u001b[39mexecute_with_cancellation(\n\u001b[0;32m   1466\u001b[0m       name\u001b[39m.\u001b[39mdecode(\u001b[39m\"\u001b[39m\u001b[39mutf-8\u001b[39m\u001b[39m\"\u001b[39m),\n\u001b[0;32m   1467\u001b[0m       num_outputs\u001b[39m=\u001b[39mnum_outputs,\n\u001b[1;32m   (...)\u001b[0m\n\u001b[0;32m   1471\u001b[0m       cancellation_manager\u001b[39m=\u001b[39mcancellation_context,\n\u001b[0;32m   1472\u001b[0m   )\n",
      "File \u001b[1;32mc:\\Users\\macarneiro\\OneDrive - Stefanini\\Desktop\\courses_git\\OCR\\venv\\Lib\\site-packages\\tensorflow\\python\\eager\\execute.py:53\u001b[0m, in \u001b[0;36mquick_execute\u001b[1;34m(op_name, num_outputs, inputs, attrs, ctx, name)\u001b[0m\n\u001b[0;32m     51\u001b[0m \u001b[39mtry\u001b[39;00m:\n\u001b[0;32m     52\u001b[0m   ctx\u001b[39m.\u001b[39mensure_initialized()\n\u001b[1;32m---> 53\u001b[0m   tensors \u001b[39m=\u001b[39m pywrap_tfe\u001b[39m.\u001b[39;49mTFE_Py_Execute(ctx\u001b[39m.\u001b[39;49m_handle, device_name, op_name,\n\u001b[0;32m     54\u001b[0m                                       inputs, attrs, num_outputs)\n\u001b[0;32m     55\u001b[0m \u001b[39mexcept\u001b[39;00m core\u001b[39m.\u001b[39m_NotOkStatusException \u001b[39mas\u001b[39;00m e:\n\u001b[0;32m     56\u001b[0m   \u001b[39mif\u001b[39;00m name \u001b[39mis\u001b[39;00m \u001b[39mnot\u001b[39;00m \u001b[39mNone\u001b[39;00m:\n",
      "\u001b[1;31mKeyboardInterrupt\u001b[0m: "
     ]
    }
   ],
   "source": [
    "history = rede_neural.fit(augmentation.flow(X_train, y_train, batch_size=batch_size),\n",
    "                                            validation_data = (X_test, y_test),\n",
    "                                            steps_per_epoch = len(X_train) // batch_size,\n",
    "                                            epochs = epochs,\n",
    "                                            class_weight = classes_peso,\n",
    "                                            verbose=1, callbacks=[checkpointer])"
   ]
  },
  {
   "cell_type": "markdown",
   "metadata": {},
   "source": [
    "# Eval"
   ]
  },
  {
   "cell_type": "code",
   "execution_count": null,
   "metadata": {},
   "outputs": [],
   "source": [
    "X_test.shape"
   ]
  },
  {
   "cell_type": "code",
   "execution_count": null,
   "metadata": {},
   "outputs": [],
   "source": [
    "predict = rede_neural.predict(X_test, batch_size=batch_size)"
   ]
  },
  {
   "cell_type": "code",
   "execution_count": null,
   "metadata": {},
   "outputs": [],
   "source": [
    "nomes_labels(np.argmax(predict[0]))"
   ]
  },
  {
   "cell_type": "code",
   "execution_count": null,
   "metadata": {},
   "outputs": [],
   "source": [
    "np.argmax(y_test[0])"
   ]
  },
  {
   "cell_type": "code",
   "execution_count": null,
   "metadata": {},
   "outputs": [],
   "source": [
    "rede_neural.evaluate(X_test, y_test)"
   ]
  },
  {
   "cell_type": "code",
   "execution_count": null,
   "metadata": {},
   "outputs": [],
   "source": [
    "print(classification_report(y_test.argmax(axis=1), predict.argmax(axis=1), target_names=nomes_labels))"
   ]
  },
  {
   "cell_type": "code",
   "execution_count": null,
   "metadata": {},
   "outputs": [],
   "source": [
    "history.history.keys()"
   ]
  },
  {
   "cell_type": "code",
   "execution_count": null,
   "metadata": {},
   "outputs": [],
   "source": []
  }
 ],
 "metadata": {
  "kernelspec": {
   "display_name": "venv",
   "language": "python",
   "name": "python3"
  },
  "language_info": {
   "codemirror_mode": {
    "name": "ipython",
    "version": 3
   },
   "file_extension": ".py",
   "mimetype": "text/x-python",
   "name": "python",
   "nbconvert_exporter": "python",
   "pygments_lexer": "ipython3",
   "version": "3.11.2"
  },
  "orig_nbformat": 4
 },
 "nbformat": 4,
 "nbformat_minor": 2
}
